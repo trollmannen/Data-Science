{
  "nbformat": 4,
  "nbformat_minor": 0,
  "metadata": {
    "colab": {
      "name": "WoW-Auction-House-EDA",
      "provenance": [],
      "collapsed_sections": [
        "KMg3-oo2LK0Q",
        "v-WdDfVbBUno"
      ],
      "authorship_tag": "ABX9TyMFRJvqOFCn6gkwmuyX8OkP",
      "include_colab_link": true
    },
    "kernelspec": {
      "name": "python3",
      "display_name": "Python 3"
    },
    "language_info": {
      "name": "python"
    }
  },
  "cells": [
    {
      "cell_type": "markdown",
      "metadata": {
        "id": "view-in-github",
        "colab_type": "text"
      },
      "source": [
        "<a href=\"https://colab.research.google.com/github/trollmannen/Data-Science/blob/main/WoW-Auction-House-EDA.ipynb\" target=\"_parent\"><img src=\"https://colab.research.google.com/assets/colab-badge.svg\" alt=\"Open In Colab\"/></a>"
      ]
    },
    {
      "cell_type": "code",
      "execution_count": 1,
      "metadata": {
        "id": "pcsSRIWGINPp"
      },
      "outputs": [],
      "source": [
        "import numpy as np\n",
        "import pandas as pd\n",
        "import seaborn as sns\n",
        "from matplotlib import pyplot as plt"
      ]
    },
    {
      "cell_type": "code",
      "source": [
        "CLIENT_ID = \"\"\n",
        "CLIENT_SECRET = \"\"\n",
        "REGION = \"eu\" #\"us\"\n",
        "LOCALE = \"en_GB\" #\"en_US\""
      ],
      "metadata": {
        "id": "174lMi58IZaq"
      },
      "execution_count": 14,
      "outputs": []
    },
    {
      "cell_type": "code",
      "source": [
        "#!pip install python-blizzardapi"
      ],
      "metadata": {
        "id": "RkDuvuWwIfhe"
      },
      "execution_count": 3,
      "outputs": []
    },
    {
      "cell_type": "code",
      "source": [
        "from blizzardapi import BlizzardApi\n",
        "api_client = BlizzardApi(CLIENT_ID, CLIENT_SECRET)"
      ],
      "metadata": {
        "id": "K5XaQUC0IiFQ"
      },
      "execution_count": 4,
      "outputs": []
    },
    {
      "cell_type": "markdown",
      "source": [
        "## Part 1: Gather & Store Data"
      ],
      "metadata": {
        "id": "KMg3-oo2LK0Q"
      }
    },
    {
      "cell_type": "code",
      "source": [
        "import requests\n",
        "def create_access_token():\n",
        "  data = { 'grant_type': 'client_credentials' }\n",
        "  response = requests.post(f'https://{REGION}.battle.net/oauth/token',\n",
        "                           data=data, auth=(CLIENT_ID, CLIENT_SECRET))\n",
        "  return response.json()['access_token']\n",
        "\n",
        "access_token = create_access_token()"
      ],
      "metadata": {
        "id": "-BF2DuG_S4IP"
      },
      "execution_count": 5,
      "outputs": []
    },
    {
      "cell_type": "code",
      "source": [
        "def get_connected_realms_index(access_token):\n",
        "  connected_realms_index = {}\n",
        "  response = requests.get(f'https://{REGION}.api.blizzard.com/data/wow/search/'\n",
        "                          f'connected-realm?namespace=dynamic-{REGION}'\n",
        "                          f'&access_token={access_token}')\n",
        "  for connected_realm in response.json()['results']:\n",
        "    for realm in connected_realm['data']['realms']:\n",
        "      connected_realms_index[realm['slug']] = connected_realm['data']['id']\n",
        "\n",
        "  return pd.Series(connected_realms_index)\n",
        "\n",
        "connected_realms_index = get_connected_realms_index(access_token)"
      ],
      "metadata": {
        "id": "wzIMp0tuObmP"
      },
      "execution_count": 6,
      "outputs": []
    },
    {
      "cell_type": "code",
      "source": [
        "def get_auctions(connected_realm_id):\n",
        "  auction_id,item_id,unit_price,buyout,bid,quantity = ([] for i in range(6))\n",
        "  response = api_client.wow.game_data.get_auctions(REGION,\n",
        "                                                   LOCALE,\n",
        "                                                   connected_realm_id)\n",
        "  for auction in response['auctions']:\n",
        "    auction_id.append(auction['id'])\n",
        "    item_id.append(auction['item']['id'])\n",
        "\n",
        "    if 'unit_price' in auction:\n",
        "      unit_price.append(auction['unit_price'])\n",
        "    else:\n",
        "      unit_price.append(pd.NA)\n",
        "\n",
        "    if 'buyout' in auction:\n",
        "      buyout.append(auction['buyout'])\n",
        "    else:\n",
        "      buyout.append(pd.NA)\n",
        "\n",
        "    if 'bid' in auction:\n",
        "      bid.append(auction['bid'])\n",
        "    else:\n",
        "      bid.append(pd.NA)\n",
        "\n",
        "    quantity.append(auction['quantity'])\n",
        "\n",
        "  auctions = pd.DataFrame(list(zip(auction_id,item_id,\n",
        "                                   unit_price,buyout,bid,quantity)),\n",
        "                          columns=['auction_id','item_id',\n",
        "                                   'unit_price','buyout','bid','quantity'])\n",
        "  return auctions"
      ],
      "metadata": {
        "id": "vCNJR7Wctjxr"
      },
      "execution_count": 7,
      "outputs": []
    },
    {
      "cell_type": "code",
      "source": [
        "all_auctions = pd.DataFrame(columns=['auction_id','item_id',\n",
        "                                     'unit_price','buyout','bid','quantity'])"
      ],
      "metadata": {
        "id": "-OXWe8bbxXSz"
      },
      "execution_count": 8,
      "outputs": []
    },
    {
      "cell_type": "code",
      "source": [
        "from tqdm import tqdm\n",
        "for connected_realm_id in tqdm(connected_realms_index.unique()):\n",
        "    all_auctions = pd.concat([get_auctions(connected_realm_id),\n",
        "                              all_auctions], axis=0)\n"
      ],
      "metadata": {
        "colab": {
          "base_uri": "https://localhost:8080/"
        },
        "id": "RkQiFeI2yM--",
        "outputId": "f17ce4ea-48f1-4dd5-82f9-da1aec908e15"
      },
      "execution_count": 9,
      "outputs": [
        {
          "output_type": "stream",
          "name": "stderr",
          "text": [
            "100%|██████████| 92/92 [02:47<00:00,  1.82s/it]\n"
          ]
        }
      ]
    },
    {
      "cell_type": "code",
      "source": [
        "def get_item_name(item_id):\n",
        "  item = api_client.wow.game_data.get_item(region=REGION,\n",
        "                                           locale=LOCALE,\n",
        "                                           item_id=item_id)\n",
        "  return item['name']\n",
        "\n",
        "#all_auctions['item'] = np.vectorize(get_item_name)(all_auctions['item_id'])"
      ],
      "metadata": {
        "id": "dLm2hd6GCx0n"
      },
      "execution_count": 10,
      "outputs": []
    },
    {
      "cell_type": "code",
      "source": [
        "all_auctions.to_csv('all_auctions.csv',index=False)"
      ],
      "metadata": {
        "id": "OTvcwAxo-emp"
      },
      "execution_count": 11,
      "outputs": []
    },
    {
      "cell_type": "markdown",
      "source": [
        "## Part 2: Clean & Organize Data"
      ],
      "metadata": {
        "id": "v-WdDfVbBUno"
      }
    },
    {
      "cell_type": "code",
      "source": [
        "all_auctions = pd.read_csv('all_auctions.csv',index_col='auction_id')"
      ],
      "metadata": {
        "id": "OgUUprTU__Xj"
      },
      "execution_count": 12,
      "outputs": []
    },
    {
      "cell_type": "code",
      "source": [
        "all_auctions"
      ],
      "metadata": {
        "colab": {
          "base_uri": "https://localhost:8080/",
          "height": 455
        },
        "id": "xkeA_5O0IZ4X",
        "outputId": "03664535-f633-4659-c457-48567bcf0405"
      },
      "execution_count": 13,
      "outputs": [
        {
          "output_type": "execute_result",
          "data": {
            "text/plain": [
              "            item_id  unit_price  buyout  bid  quantity\n",
              "auction_id                                            \n",
              "1335559057    14047      5200.0     NaN  NaN        57\n",
              "1335961382    37921    144200.0     NaN  NaN        14\n",
              "1335861176    43465     26400.0     NaN  NaN         1\n",
              "1335784242   162517    668100.0     NaN  NaN         9\n",
              "1335476437   171830    150000.0     NaN  NaN       800\n",
              "...             ...         ...     ...  ...       ...\n",
              "1336847893   170554    282000.0     NaN  NaN       200\n",
              "1336847898   168589    305000.0     NaN  NaN       119\n",
              "1336847901   168586    305000.0     NaN  NaN       179\n",
              "1336847903   169701     45800.0     NaN  NaN       200\n",
              "1336847906   171828     87500.0     NaN  NaN       200\n",
              "\n",
              "[4142285 rows x 5 columns]"
            ],
            "text/html": [
              "\n",
              "  <div id=\"df-8a4e850f-ae70-4087-bf49-1e9c6c432f6f\">\n",
              "    <div class=\"colab-df-container\">\n",
              "      <div>\n",
              "<style scoped>\n",
              "    .dataframe tbody tr th:only-of-type {\n",
              "        vertical-align: middle;\n",
              "    }\n",
              "\n",
              "    .dataframe tbody tr th {\n",
              "        vertical-align: top;\n",
              "    }\n",
              "\n",
              "    .dataframe thead th {\n",
              "        text-align: right;\n",
              "    }\n",
              "</style>\n",
              "<table border=\"1\" class=\"dataframe\">\n",
              "  <thead>\n",
              "    <tr style=\"text-align: right;\">\n",
              "      <th></th>\n",
              "      <th>item_id</th>\n",
              "      <th>unit_price</th>\n",
              "      <th>buyout</th>\n",
              "      <th>bid</th>\n",
              "      <th>quantity</th>\n",
              "    </tr>\n",
              "    <tr>\n",
              "      <th>auction_id</th>\n",
              "      <th></th>\n",
              "      <th></th>\n",
              "      <th></th>\n",
              "      <th></th>\n",
              "      <th></th>\n",
              "    </tr>\n",
              "  </thead>\n",
              "  <tbody>\n",
              "    <tr>\n",
              "      <th>1335559057</th>\n",
              "      <td>14047</td>\n",
              "      <td>5200.0</td>\n",
              "      <td>NaN</td>\n",
              "      <td>NaN</td>\n",
              "      <td>57</td>\n",
              "    </tr>\n",
              "    <tr>\n",
              "      <th>1335961382</th>\n",
              "      <td>37921</td>\n",
              "      <td>144200.0</td>\n",
              "      <td>NaN</td>\n",
              "      <td>NaN</td>\n",
              "      <td>14</td>\n",
              "    </tr>\n",
              "    <tr>\n",
              "      <th>1335861176</th>\n",
              "      <td>43465</td>\n",
              "      <td>26400.0</td>\n",
              "      <td>NaN</td>\n",
              "      <td>NaN</td>\n",
              "      <td>1</td>\n",
              "    </tr>\n",
              "    <tr>\n",
              "      <th>1335784242</th>\n",
              "      <td>162517</td>\n",
              "      <td>668100.0</td>\n",
              "      <td>NaN</td>\n",
              "      <td>NaN</td>\n",
              "      <td>9</td>\n",
              "    </tr>\n",
              "    <tr>\n",
              "      <th>1335476437</th>\n",
              "      <td>171830</td>\n",
              "      <td>150000.0</td>\n",
              "      <td>NaN</td>\n",
              "      <td>NaN</td>\n",
              "      <td>800</td>\n",
              "    </tr>\n",
              "    <tr>\n",
              "      <th>...</th>\n",
              "      <td>...</td>\n",
              "      <td>...</td>\n",
              "      <td>...</td>\n",
              "      <td>...</td>\n",
              "      <td>...</td>\n",
              "    </tr>\n",
              "    <tr>\n",
              "      <th>1336847893</th>\n",
              "      <td>170554</td>\n",
              "      <td>282000.0</td>\n",
              "      <td>NaN</td>\n",
              "      <td>NaN</td>\n",
              "      <td>200</td>\n",
              "    </tr>\n",
              "    <tr>\n",
              "      <th>1336847898</th>\n",
              "      <td>168589</td>\n",
              "      <td>305000.0</td>\n",
              "      <td>NaN</td>\n",
              "      <td>NaN</td>\n",
              "      <td>119</td>\n",
              "    </tr>\n",
              "    <tr>\n",
              "      <th>1336847901</th>\n",
              "      <td>168586</td>\n",
              "      <td>305000.0</td>\n",
              "      <td>NaN</td>\n",
              "      <td>NaN</td>\n",
              "      <td>179</td>\n",
              "    </tr>\n",
              "    <tr>\n",
              "      <th>1336847903</th>\n",
              "      <td>169701</td>\n",
              "      <td>45800.0</td>\n",
              "      <td>NaN</td>\n",
              "      <td>NaN</td>\n",
              "      <td>200</td>\n",
              "    </tr>\n",
              "    <tr>\n",
              "      <th>1336847906</th>\n",
              "      <td>171828</td>\n",
              "      <td>87500.0</td>\n",
              "      <td>NaN</td>\n",
              "      <td>NaN</td>\n",
              "      <td>200</td>\n",
              "    </tr>\n",
              "  </tbody>\n",
              "</table>\n",
              "<p>4142285 rows × 5 columns</p>\n",
              "</div>\n",
              "      <button class=\"colab-df-convert\" onclick=\"convertToInteractive('df-8a4e850f-ae70-4087-bf49-1e9c6c432f6f')\"\n",
              "              title=\"Convert this dataframe to an interactive table.\"\n",
              "              style=\"display:none;\">\n",
              "        \n",
              "  <svg xmlns=\"http://www.w3.org/2000/svg\" height=\"24px\"viewBox=\"0 0 24 24\"\n",
              "       width=\"24px\">\n",
              "    <path d=\"M0 0h24v24H0V0z\" fill=\"none\"/>\n",
              "    <path d=\"M18.56 5.44l.94 2.06.94-2.06 2.06-.94-2.06-.94-.94-2.06-.94 2.06-2.06.94zm-11 1L8.5 8.5l.94-2.06 2.06-.94-2.06-.94L8.5 2.5l-.94 2.06-2.06.94zm10 10l.94 2.06.94-2.06 2.06-.94-2.06-.94-.94-2.06-.94 2.06-2.06.94z\"/><path d=\"M17.41 7.96l-1.37-1.37c-.4-.4-.92-.59-1.43-.59-.52 0-1.04.2-1.43.59L10.3 9.45l-7.72 7.72c-.78.78-.78 2.05 0 2.83L4 21.41c.39.39.9.59 1.41.59.51 0 1.02-.2 1.41-.59l7.78-7.78 2.81-2.81c.8-.78.8-2.07 0-2.86zM5.41 20L4 18.59l7.72-7.72 1.47 1.35L5.41 20z\"/>\n",
              "  </svg>\n",
              "      </button>\n",
              "      \n",
              "  <style>\n",
              "    .colab-df-container {\n",
              "      display:flex;\n",
              "      flex-wrap:wrap;\n",
              "      gap: 12px;\n",
              "    }\n",
              "\n",
              "    .colab-df-convert {\n",
              "      background-color: #E8F0FE;\n",
              "      border: none;\n",
              "      border-radius: 50%;\n",
              "      cursor: pointer;\n",
              "      display: none;\n",
              "      fill: #1967D2;\n",
              "      height: 32px;\n",
              "      padding: 0 0 0 0;\n",
              "      width: 32px;\n",
              "    }\n",
              "\n",
              "    .colab-df-convert:hover {\n",
              "      background-color: #E2EBFA;\n",
              "      box-shadow: 0px 1px 2px rgba(60, 64, 67, 0.3), 0px 1px 3px 1px rgba(60, 64, 67, 0.15);\n",
              "      fill: #174EA6;\n",
              "    }\n",
              "\n",
              "    [theme=dark] .colab-df-convert {\n",
              "      background-color: #3B4455;\n",
              "      fill: #D2E3FC;\n",
              "    }\n",
              "\n",
              "    [theme=dark] .colab-df-convert:hover {\n",
              "      background-color: #434B5C;\n",
              "      box-shadow: 0px 1px 3px 1px rgba(0, 0, 0, 0.15);\n",
              "      filter: drop-shadow(0px 1px 2px rgba(0, 0, 0, 0.3));\n",
              "      fill: #FFFFFF;\n",
              "    }\n",
              "  </style>\n",
              "\n",
              "      <script>\n",
              "        const buttonEl =\n",
              "          document.querySelector('#df-8a4e850f-ae70-4087-bf49-1e9c6c432f6f button.colab-df-convert');\n",
              "        buttonEl.style.display =\n",
              "          google.colab.kernel.accessAllowed ? 'block' : 'none';\n",
              "\n",
              "        async function convertToInteractive(key) {\n",
              "          const element = document.querySelector('#df-8a4e850f-ae70-4087-bf49-1e9c6c432f6f');\n",
              "          const dataTable =\n",
              "            await google.colab.kernel.invokeFunction('convertToInteractive',\n",
              "                                                     [key], {});\n",
              "          if (!dataTable) return;\n",
              "\n",
              "          const docLinkHtml = 'Like what you see? Visit the ' +\n",
              "            '<a target=\"_blank\" href=https://colab.research.google.com/notebooks/data_table.ipynb>data table notebook</a>'\n",
              "            + ' to learn more about interactive tables.';\n",
              "          element.innerHTML = '';\n",
              "          dataTable['output_type'] = 'display_data';\n",
              "          await google.colab.output.renderOutput(dataTable, element);\n",
              "          const docLink = document.createElement('div');\n",
              "          docLink.innerHTML = docLinkHtml;\n",
              "          element.appendChild(docLink);\n",
              "        }\n",
              "      </script>\n",
              "    </div>\n",
              "  </div>\n",
              "  "
            ]
          },
          "metadata": {},
          "execution_count": 13
        }
      ]
    }
  ]
}