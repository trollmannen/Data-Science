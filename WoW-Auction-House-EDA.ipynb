{
  "nbformat": 4,
  "nbformat_minor": 0,
  "metadata": {
    "colab": {
      "name": "WoW-Auction-House-EDA",
      "provenance": [],
      "collapsed_sections": [],
      "authorship_tag": "ABX9TyNv2ifkcBtgZWcq/XxZpsvK",
      "include_colab_link": true
    },
    "kernelspec": {
      "name": "python3",
      "display_name": "Python 3"
    },
    "language_info": {
      "name": "python"
    }
  },
  "cells": [
    {
      "cell_type": "markdown",
      "metadata": {
        "id": "view-in-github",
        "colab_type": "text"
      },
      "source": [
        "<a href=\"https://colab.research.google.com/github/trollmannen/Data-Science/blob/main/WoW-Auction-House-EDA.ipynb\" target=\"_parent\"><img src=\"https://colab.research.google.com/assets/colab-badge.svg\" alt=\"Open In Colab\"/></a>"
      ]
    },
    {
      "cell_type": "code",
      "execution_count": 1,
      "metadata": {
        "id": "pcsSRIWGINPp"
      },
      "outputs": [],
      "source": [
        "import numpy as np\n",
        "import pandas as pd\n",
        "import seaborn as sns\n",
        "from matplotlib import pyplot as plt"
      ]
    },
    {
      "cell_type": "code",
      "source": [
        "CLIENT_ID = \"\"\n",
        "CLIENT_SECRET = \"\"\n",
        "REGION = \"eu\" #\"us\"\n",
        "LOCALE = \"en_GB\" #\"en_US\""
      ],
      "metadata": {
        "id": "174lMi58IZaq"
      },
      "execution_count": 24,
      "outputs": []
    },
    {
      "cell_type": "code",
      "source": [
        "#!pip install python-blizzardapi"
      ],
      "metadata": {
        "id": "RkDuvuWwIfhe"
      },
      "execution_count": 3,
      "outputs": []
    },
    {
      "cell_type": "code",
      "source": [
        "from blizzardapi import BlizzardApi\n",
        "api_client = BlizzardApi(CLIENT_ID, CLIENT_SECRET)"
      ],
      "metadata": {
        "id": "K5XaQUC0IiFQ"
      },
      "execution_count": 4,
      "outputs": []
    },
    {
      "cell_type": "markdown",
      "source": [
        "## Part 1: Gather & Store Data"
      ],
      "metadata": {
        "id": "KMg3-oo2LK0Q"
      }
    },
    {
      "cell_type": "code",
      "source": [
        "import requests\n",
        "def create_access_token():\n",
        "  data = { 'grant_type': 'client_credentials' }\n",
        "  response = requests.post(f'https://{REGION}.battle.net/oauth/token',\n",
        "                           data=data, auth=(CLIENT_ID, CLIENT_SECRET))\n",
        "  return response.json()['access_token']\n",
        "\n",
        "access_token = create_access_token()"
      ],
      "metadata": {
        "id": "-BF2DuG_S4IP"
      },
      "execution_count": 5,
      "outputs": []
    },
    {
      "cell_type": "code",
      "source": [
        "def get_connected_realms_index(access_token):\n",
        "  connected_realms_index = {}\n",
        "  response = requests.get(f'https://{REGION}.api.blizzard.com/data/wow/search/'\n",
        "                          f'connected-realm?namespace=dynamic-{REGION}'\n",
        "                          f'&access_token={access_token}')\n",
        "  for connected_realm in response.json()['results']:\n",
        "    for realm in connected_realm['data']['realms']:\n",
        "      connected_realms_index[realm['slug']] = connected_realm['data']['id']\n",
        "\n",
        "  return pd.Series(connected_realms_index)\n",
        "\n",
        "connected_realms_index = get_connected_realms_index(access_token)"
      ],
      "metadata": {
        "id": "wzIMp0tuObmP"
      },
      "execution_count": 6,
      "outputs": []
    },
    {
      "cell_type": "code",
      "source": [
        "def get_auctions(connected_realm_id):\n",
        "  auction_id,item_id,pet_breed_id,pet_level,pet_quality_id,pet_species_id,unit_price,buyout,quantity,time_left = ([] for i in range(10))\n",
        "  response = api_client.wow.game_data.get_auctions(REGION,\n",
        "                                                   LOCALE,\n",
        "                                                   connected_realm_id)\n",
        "  for auction in response['auctions']:\n",
        "    auction_id.append(auction['id'])    \n",
        "    item_id.append(auction['item']['id'])\n",
        "\n",
        "    if auction['item']['id'] == 82800:\n",
        "      pet_breed_id.append(auction['item']['pet_breed_id'])\n",
        "      pet_level.append(auction['item']['pet_level'])\n",
        "      pet_quality_id.append(auction['item']['pet_quality_id'])\n",
        "      pet_species_id.append(auction['item']['pet_species_id'])\n",
        "    else:\n",
        "      pet_breed_id.append(0)\n",
        "      pet_level.append(0)\n",
        "      pet_quality_id.append(0)\n",
        "      pet_species_id.append(0)\n",
        "\n",
        "    if 'unit_price' in auction:\n",
        "      unit_price.append(auction['unit_price'])\n",
        "    else:\n",
        "      unit_price.append(0)\n",
        "\n",
        "    if 'buyout' in auction:\n",
        "      buyout.append(auction['buyout'])\n",
        "    else:\n",
        "      buyout.append(0)\n",
        "\n",
        "    quantity.append(auction['quantity'])\n",
        "    time_left.append(auction['time_left'])\n",
        "\n",
        "  auctions = pd.DataFrame(list(zip(auction_id,item_id,pet_breed_id,pet_level,pet_quality_id,\n",
        "                                   pet_species_id,unit_price,buyout,quantity,time_left)),\n",
        "                          columns=['auction_id','item_id','pet_breed_id','pet_level','pet_quality_id',\n",
        "                                   'pet_species_id','unit_price','buyout','quantity','time_left'])\n",
        "  \n",
        "  auctions['crid'] = connected_realm_id\n",
        "\n",
        "  return auctions"
      ],
      "metadata": {
        "id": "er2rbViKMe6A"
      },
      "execution_count": 7,
      "outputs": []
    },
    {
      "cell_type": "code",
      "source": [
        "all_auctions = pd.DataFrame(columns=['auction_id','item_id','pet_breed_id','pet_level','pet_quality_id',\n",
        "                                     'pet_species_id','unit_price','buyout','quantity','time_left','crid'])"
      ],
      "metadata": {
        "id": "-OXWe8bbxXSz"
      },
      "execution_count": 8,
      "outputs": []
    },
    {
      "cell_type": "code",
      "source": [
        "from tqdm import tqdm\n",
        "for connected_realm_id in tqdm(connected_realms_index.unique()):\n",
        "  all_auctions = pd.concat([get_auctions(connected_realm_id),\n",
        "                            all_auctions], axis=0)\n"
      ],
      "metadata": {
        "colab": {
          "base_uri": "https://localhost:8080/"
        },
        "id": "RkQiFeI2yM--",
        "outputId": "651ab4d7-5e53-4e0c-836f-a962d5532ae7"
      },
      "execution_count": 9,
      "outputs": [
        {
          "output_type": "stream",
          "name": "stderr",
          "text": [
            "100%|██████████| 92/92 [03:11<00:00,  2.08s/it]\n"
          ]
        }
      ]
    },
    {
      "cell_type": "code",
      "source": [
        "def get_item(item_id):\n",
        "  item = api_client.wow.game_data.get_item(region=REGION,\n",
        "                                           locale=LOCALE,\n",
        "                                           item_id=item_id)\n",
        "  return item['name']\n",
        "\n",
        "#all_auctions['item'] = np.vectorize(get_item)(all_auctions['item_id'])"
      ],
      "metadata": {
        "id": "dLm2hd6GCx0n"
      },
      "execution_count": 10,
      "outputs": []
    },
    {
      "cell_type": "code",
      "source": [
        "def get_pet(pet_species_id):\n",
        "  if pet_species_id == 0:\n",
        "    return pet_species_id\n",
        "  pet = api_client.wow.game_data.get_pet(region=REGION,\n",
        "                                         locale=LOCALE,\n",
        "                                         pet_id=pet_species_id)\n",
        "  return pet['name']\n",
        "\n",
        "#all_auctions['pet_species_id'] = np.vectorize(get_pet)(all_auctions['pet_species_id'])"
      ],
      "metadata": {
        "id": "9Uv5x4JVnnhW"
      },
      "execution_count": 11,
      "outputs": []
    },
    {
      "cell_type": "code",
      "source": [
        "all_auctions.to_csv('all_auctions.csv',index=False)"
      ],
      "metadata": {
        "id": "OTvcwAxo-emp"
      },
      "execution_count": 12,
      "outputs": []
    },
    {
      "cell_type": "markdown",
      "source": [
        "## Part 2: Clean & Organize Data"
      ],
      "metadata": {
        "id": "v-WdDfVbBUno"
      }
    },
    {
      "cell_type": "code",
      "source": [
        "all_auctions = pd.read_csv('all_auctions.csv',index_col='auction_id')"
      ],
      "metadata": {
        "id": "x1sgW20nraMR"
      },
      "execution_count": 13,
      "outputs": []
    },
    {
      "cell_type": "code",
      "source": [
        "all_auctions['buyout'] = all_auctions['unit_price'] + all_auctions['buyout']"
      ],
      "metadata": {
        "id": "UTjyMeGnp4yM"
      },
      "execution_count": 14,
      "outputs": []
    },
    {
      "cell_type": "code",
      "source": [
        "all_auctions = all_auctions[all_auctions['buyout'] > 0].drop('unit_price',axis=1)"
      ],
      "metadata": {
        "id": "hkKV_fvrmoIE"
      },
      "execution_count": 15,
      "outputs": []
    },
    {
      "cell_type": "code",
      "source": [
        "# todo: fix this monster\n",
        "all_auctions['gold'] = all_auctions['buyout'].astype(str).str[:-4]\n",
        "all_auctions['silver'] = all_auctions['buyout'].astype(str).str[-4:-2]\n",
        "all_auctions['copper'] = all_auctions['buyout'].astype(str).str[-2:]\n",
        "\n",
        "all_auctions['gold'] = pd.to_numeric(all_auctions['gold'])\n",
        "all_auctions['silver'] = pd.to_numeric(all_auctions['silver'])\n",
        "all_auctions['copper'] = pd.to_numeric(all_auctions['copper'])\n",
        "\n",
        "all_auctions['gold'] = all_auctions['gold'].fillna(0)\n",
        "all_auctions['silver'] = all_auctions['silver'].fillna(0)\n",
        "all_auctions['copper'] = all_auctions['copper'].fillna(0)\n",
        "\n",
        "all_auctions['gold'] = all_auctions['gold'].astype('int')\n",
        "all_auctions['silver'] = all_auctions['silver'].astype('int')\n",
        "all_auctions['copper'] = all_auctions['copper'].astype('int')"
      ],
      "metadata": {
        "id": "kVyyQkJQrlkb"
      },
      "execution_count": 16,
      "outputs": []
    },
    {
      "cell_type": "markdown",
      "source": [
        "## Part 3: EDA"
      ],
      "metadata": {
        "id": "vGJEp55QPoZZ"
      }
    },
    {
      "cell_type": "markdown",
      "source": [
        "### How many realms are included in all the retail EU Realms and this EDA?"
      ],
      "metadata": {
        "id": "1JQqCWVs5ty9"
      }
    },
    {
      "cell_type": "code",
      "source": [
        "len(connected_realms_index)"
      ],
      "metadata": {
        "colab": {
          "base_uri": "https://localhost:8080/"
        },
        "id": "5WaOAI3n5s7g",
        "outputId": "a1876277-c4c3-42d8-d9dc-8cfd46a0710e"
      },
      "execution_count": 23,
      "outputs": [
        {
          "output_type": "execute_result",
          "data": {
            "text/plain": [
              "267"
            ]
          },
          "metadata": {},
          "execution_count": 23
        }
      ]
    },
    {
      "cell_type": "markdown",
      "source": [
        "### What percentage of all auctions are battle pet auctions?"
      ],
      "metadata": {
        "id": "_iJVRb0C3OhQ"
      }
    },
    {
      "cell_type": "code",
      "source": [
        "round(len(all_auctions[all_auctions['item_id']==82800])/len(all_auctions)*100,2)"
      ],
      "metadata": {
        "colab": {
          "base_uri": "https://localhost:8080/"
        },
        "id": "8WxxB49RW4i0",
        "outputId": "16f0107f-9e82-4c82-b7aa-23cca331aa40"
      },
      "execution_count": 19,
      "outputs": [
        {
          "output_type": "execute_result",
          "data": {
            "text/plain": [
              "8.94"
            ]
          },
          "metadata": {},
          "execution_count": 19
        }
      ]
    },
    {
      "cell_type": "markdown",
      "source": [
        "### How many auctions for unique items are there?"
      ],
      "metadata": {
        "id": "mw35gZCE5krL"
      }
    },
    {
      "cell_type": "code",
      "source": [
        "all_auctions['item_id'].nunique()"
      ],
      "metadata": {
        "colab": {
          "base_uri": "https://localhost:8080/"
        },
        "id": "qy0_y21G3akz",
        "outputId": "27d07cb0-972f-4a9f-d446-d14005874143"
      },
      "execution_count": 21,
      "outputs": [
        {
          "output_type": "execute_result",
          "data": {
            "text/plain": [
              "21920"
            ]
          },
          "metadata": {},
          "execution_count": 21
        }
      ]
    }
  ]
}