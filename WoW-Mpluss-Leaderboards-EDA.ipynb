{
  "nbformat": 4,
  "nbformat_minor": 0,
  "metadata": {
    "colab": {
      "name": "WoW-Mpluss-Leaderboards-EDA.ipynb",
      "provenance": [],
      "collapsed_sections": [
        "aFVQvOvfoedY",
        "4ffupgDL3E1a",
        "0Lc8EfyC2Ubh"
      ],
      "authorship_tag": "ABX9TyPJ8B1vpin0T+6AAvRwEJ70",
      "include_colab_link": true
    },
    "kernelspec": {
      "name": "python3",
      "display_name": "Python 3"
    },
    "language_info": {
      "name": "python"
    }
  },
  "cells": [
    {
      "cell_type": "markdown",
      "metadata": {
        "id": "view-in-github",
        "colab_type": "text"
      },
      "source": [
        "<a href=\"https://colab.research.google.com/github/trollmannen/Data-Science/blob/main/WoW-Mpluss-Leaderboards-EDA.ipynb\" target=\"_parent\"><img src=\"https://colab.research.google.com/assets/colab-badge.svg\" alt=\"Open In Colab\"/></a>"
      ]
    },
    {
      "cell_type": "code",
      "execution_count": null,
      "metadata": {
        "id": "Itwvg6AQnVwu"
      },
      "outputs": [],
      "source": [
        "import numpy as np\n",
        "import pandas as pd\n",
        "import seaborn as sns\n",
        "from matplotlib import pyplot as plt"
      ]
    },
    {
      "cell_type": "code",
      "source": [
        "CLIENT_ID = \"\"\n",
        "CLIENT_SECRET = \"\"\n",
        "REGION = \"eu\" #\"us\"\n",
        "LOCALE = \"en_GB\" #\"en_US\""
      ],
      "metadata": {
        "id": "ji6rEIQGoA1m"
      },
      "execution_count": 2,
      "outputs": []
    },
    {
      "cell_type": "code",
      "source": [
        "#!pip install python-blizzardapi"
      ],
      "metadata": {
        "id": "qzbcH_ydoD-V"
      },
      "execution_count": 1,
      "outputs": []
    },
    {
      "cell_type": "code",
      "source": [
        "from blizzardapi import BlizzardApi\n",
        "api_client = BlizzardApi(CLIENT_ID, CLIENT_SECRET)"
      ],
      "metadata": {
        "id": "TqP_e_-1oYR_"
      },
      "execution_count": null,
      "outputs": []
    },
    {
      "cell_type": "code",
      "source": [
        "from google.colab import drive\n",
        "drive.mount('/content/drive')"
      ],
      "metadata": {
        "colab": {
          "base_uri": "https://localhost:8080/"
        },
        "id": "2sarb5TVQKIa",
        "outputId": "a9b3c954-3fd2-463e-8b0e-983676711da1"
      },
      "execution_count": null,
      "outputs": [
        {
          "output_type": "stream",
          "name": "stdout",
          "text": [
            "Drive already mounted at /content/drive; to attempt to forcibly remount, call drive.mount(\"/content/drive\", force_remount=True).\n"
          ]
        }
      ]
    },
    {
      "cell_type": "markdown",
      "source": [
        "## Part 1: Gather & Store Data"
      ],
      "metadata": {
        "id": "aFVQvOvfoedY"
      }
    },
    {
      "cell_type": "code",
      "source": [
        "import requests\n",
        "def create_access_token():\n",
        "  data = { 'grant_type': 'client_credentials' }\n",
        "  response = requests.post(f'https://{REGION}.battle.net/oauth/token',\n",
        "                           data=data, auth=(CLIENT_ID, CLIENT_SECRET))\n",
        "  return response.json()['access_token']\n",
        "\n",
        "access_token = create_access_token()"
      ],
      "metadata": {
        "id": "-BF2DuG_S4IP"
      },
      "execution_count": null,
      "outputs": []
    },
    {
      "cell_type": "code",
      "source": [
        "def get_connected_realms_index(access_token):\n",
        "  connected_realms_index = {}\n",
        "  response = requests.get(f'https://{REGION}.api.blizzard.com/data/wow/search/'\n",
        "                          f'connected-realm?namespace=dynamic-{REGION}'\n",
        "                          f'&access_token={access_token}')\n",
        "  for connected_realm in response.json()['results']:\n",
        "    for realm in connected_realm['data']['realms']:\n",
        "      connected_realms_index[realm['slug']] = connected_realm['data']['id']\n",
        "\n",
        "  return pd.Series(connected_realms_index)\n",
        "\n",
        "connected_realms_index = get_connected_realms_index(access_token)"
      ],
      "metadata": {
        "id": "wzIMp0tuObmP"
      },
      "execution_count": null,
      "outputs": []
    },
    {
      "cell_type": "code",
      "source": [
        "def get_dungeon_index():\n",
        "  dungeon_index = {}\n",
        "\n",
        "  response = api_client.wow.game_data.get_mythic_keystone_dungeons_index(region=REGION,\n",
        "                                                                         locale=LOCALE)\n",
        "  \n",
        "  for dungeon in response['dungeons']:\n",
        "    dungeon_index[dungeon['name'].lower()] = dungeon['id']\n",
        "  \n",
        "  return pd.Series(dungeon_index)\n",
        "\n",
        "dungeon_index = get_dungeon_index()"
      ],
      "metadata": {
        "id": "og0rhfH7obQf"
      },
      "execution_count": null,
      "outputs": []
    },
    {
      "cell_type": "code",
      "source": [
        "def get_periods():\n",
        "  periods = []\n",
        "\n",
        "  response = api_client.wow.game_data.get_mythic_keystone_periods_index(REGION,\n",
        "                                                                        LOCALE)\n",
        "  \n",
        "  for period in response['periods']:\n",
        "    periods.append(period['id'])\n",
        "\n",
        "  return periods[::-1]\n",
        "\n",
        "periods = get_periods()"
      ],
      "metadata": {
        "id": "xVgmuObQtfPC"
      },
      "execution_count": null,
      "outputs": []
    },
    {
      "cell_type": "code",
      "source": [
        "def get_leaderboard(crid,did,pid):\n",
        "  completed_timestamp,duration,keystone_level,group_id,faction,profile_id,name,realm,spec_id = ([] for i in range(9))\n",
        "  response = api_client.wow.game_data.get_mythic_keystone_leaderboard(REGION,\n",
        "                                                                      LOCALE,\n",
        "                                                                      crid,\n",
        "                                                                      did,\n",
        "                                                                      pid)\n",
        "  group_id_count = 0\n",
        "  for group in response['leading_groups']:\n",
        "    for member in group['members']:\n",
        "      completed_timestamp.append(group['completed_timestamp'])\n",
        "      duration.append(group['duration'])\n",
        "      keystone_level.append(group['keystone_level'])\n",
        "      group_id.append(group_id_count)\n",
        "      faction.append(member['faction']['type'].lower())\n",
        "      profile_id.append(member['profile']['id'])\n",
        "      name.append(member['profile']['name'].lower())\n",
        "      realm.append(member['profile']['realm']['slug'])\n",
        "      spec_id.append(member['specialization']['id'])\n",
        "    group_id_count += 1\n",
        "\n",
        "  leaderboard = leaderboard = pd.DataFrame(list(zip(completed_timestamp,duration,\n",
        "                                                    keystone_level,group_id,faction,profile_id,\n",
        "                                                    name,realm,spec_id)),\n",
        "                              columns=['completed_timestamp','duration',\n",
        "                                       'keystone_level','group_id','faction','profile_id',\n",
        "                                       'name','realm','spec_id'])\n",
        "  \n",
        "  leaderboard['crid'] = crid\n",
        "  leaderboard['did'] = did\n",
        "  leaderboard['pid'] = pid\n",
        "\n",
        "  return leaderboard"
      ],
      "metadata": {
        "id": "_4OQrO7yvTEU"
      },
      "execution_count": null,
      "outputs": []
    },
    {
      "cell_type": "code",
      "source": [
        "leaderboards = pd.DataFrame(columns=['completed_timestamp','duration',\n",
        "                                       'keystone_level','group_id','faction','profile_id',\n",
        "                                       'name','realm','spec_id'])"
      ],
      "metadata": {
        "id": "atc0vmZ15VNg"
      },
      "execution_count": null,
      "outputs": []
    },
    {
      "cell_type": "code",
      "source": [
        "from tqdm import tqdm\n",
        "for crid in tqdm(connected_realms_index.values):\n",
        "  for dungeon_id in dungeon_index.values:\n",
        "    leaderboards = pd.concat([get_leaderboard(crid,dungeon_id,periods[0]),\n",
        "                              leaderboards], axis=0)"
      ],
      "metadata": {
        "colab": {
          "base_uri": "https://localhost:8080/"
        },
        "id": "Z-_IVHIE3YT1",
        "outputId": "78de480d-50b3-43cc-d3bd-9b35dfb4ab30"
      },
      "execution_count": null,
      "outputs": [
        {
          "output_type": "stream",
          "name": "stderr",
          "text": [
            "100%|██████████| 267/267 [40:49<00:00,  9.17s/it]\n"
          ]
        }
      ]
    },
    {
      "cell_type": "code",
      "source": [
        "def get_spec_index():\n",
        "  spec_index = {}\n",
        "\n",
        "  response = api_client.wow.game_data.get_playable_specializations_index(region=REGION,\n",
        "                                                                        locale=LOCALE)\n",
        "  for spec in response['character_specializations']:\n",
        "    spec_index[spec['id']] = spec['name'].lower()\n",
        "\n",
        "  return spec_index\n",
        "\n",
        "spec_index = get_spec_index()"
      ],
      "metadata": {
        "id": "Fdza8ZYwcOy_"
      },
      "execution_count": null,
      "outputs": []
    },
    {
      "cell_type": "code",
      "source": [
        "def set_spec(spec_id):\n",
        "  return spec_index[spec_id]"
      ],
      "metadata": {
        "id": "Mzh45Glle6hl"
      },
      "execution_count": null,
      "outputs": []
    },
    {
      "cell_type": "code",
      "source": [
        "def get_race(realm,name):\n",
        "  response = api_client.wow.profile.get_character_profile_summary(REGION,\n",
        "                                                                  LOCALE,\n",
        "                                                                  realm,\n",
        "                                                                  name)\n",
        "  try:\n",
        "    return response['race']['name'].lower()\n",
        "  except KeyError:\n",
        "    return pd.NA"
      ],
      "metadata": {
        "id": "uF0iRDKugjgr"
      },
      "execution_count": null,
      "outputs": []
    },
    {
      "cell_type": "code",
      "source": [
        "def get_guild(realm,name):\n",
        "  response = api_client.wow.profile.get_character_profile_summary(REGION,\n",
        "                                                                  LOCALE,\n",
        "                                                                  realm,\n",
        "                                                                  name)\n",
        "  try:\n",
        "    return response['guild']['name'].lower()\n",
        "  except KeyError:\n",
        "    return '0'"
      ],
      "metadata": {
        "id": "-b8j3vu9Rrds"
      },
      "execution_count": null,
      "outputs": []
    },
    {
      "cell_type": "code",
      "source": [
        "api_client.wow.profile.get_character_profile_summary(REGION,\n",
        "                                                     LOCALE,\n",
        "                                                     'argent-dawn',\n",
        "                                                     'bralfornags')['guild']['name'].lower()"
      ],
      "metadata": {
        "id": "uCxL4ZLZgnhv"
      },
      "execution_count": null,
      "outputs": []
    },
    {
      "cell_type": "code",
      "source": [
        "leaderboards.to_csv('/content/drive/MyDrive/mpluss/leaderboards.csv',index=False)"
      ],
      "metadata": {
        "id": "84OQcwgHQRIn"
      },
      "execution_count": null,
      "outputs": []
    },
    {
      "cell_type": "markdown",
      "source": [
        "## Part 2: Clean & Organize Data"
      ],
      "metadata": {
        "id": "4ffupgDL3E1a"
      }
    },
    {
      "cell_type": "code",
      "source": [
        "leaderboards = pd.read_csv('/content/drive/MyDrive/mpluss/leaderboards.csv')"
      ],
      "metadata": {
        "id": "Wt6-O1TmQ04U"
      },
      "execution_count": null,
      "outputs": []
    },
    {
      "cell_type": "code",
      "source": [
        "leaderboards = leaderboards.drop_duplicates()"
      ],
      "metadata": {
        "id": "UWQTsA1gRC5M"
      },
      "execution_count": null,
      "outputs": []
    },
    {
      "cell_type": "code",
      "source": [
        "leaderboards['profile_id'].nunique()"
      ],
      "metadata": {
        "colab": {
          "base_uri": "https://localhost:8080/"
        },
        "id": "sS_nYRvhZRfR",
        "outputId": "062a69a1-da81-4ee3-cdcc-f4f26ae41aca"
      },
      "execution_count": null,
      "outputs": [
        {
          "output_type": "execute_result",
          "data": {
            "text/plain": [
              "259445"
            ]
          },
          "metadata": {},
          "execution_count": 13
        }
      ]
    },
    {
      "cell_type": "code",
      "source": [
        "leaderboards['spec'] = np.vectorize(set_spec)(leaderboards['spec_id'])"
      ],
      "metadata": {
        "id": "W-d6bMc_9d2S"
      },
      "execution_count": null,
      "outputs": []
    },
    {
      "cell_type": "markdown",
      "source": [
        "## Part 3: EDA"
      ],
      "metadata": {
        "id": "0Lc8EfyC2Ubh"
      }
    },
    {
      "cell_type": "code",
      "source": [
        "plt.figure(figsize=(12,8))\n",
        "leaderboards.groupby('spec').count().sort_values('name',ascending=False)['name'].plot.bar()"
      ],
      "metadata": {
        "colab": {
          "base_uri": "https://localhost:8080/",
          "height": 578
        },
        "id": "gAktXnuQ_KdB",
        "outputId": "89445375-ca9c-4d59-9bf7-9e4a11c0efdb"
      },
      "execution_count": null,
      "outputs": [
        {
          "output_type": "execute_result",
          "data": {
            "text/plain": [
              "<matplotlib.axes._subplots.AxesSubplot at 0x7fe9a83f89d0>"
            ]
          },
          "metadata": {},
          "execution_count": 22
        },
        {
          "output_type": "display_data",
          "data": {
            "text/plain": [
              "<Figure size 864x576 with 1 Axes>"
            ],
            "image/png": "[encoded data removed]"
          },
          "metadata": {
            "needs_background": "light"
          }
        }
      ]
    },
    {
      "cell_type": "code",
      "source": [
        "leaderboards"
      ],
      "metadata": {
        "colab": {
          "base_uri": "https://localhost:8080/",
          "height": 424
        },
        "id": "KmPgtSN3-qpJ",
        "outputId": "76fc4cbd-79d6-49a5-ee02-651eca4731d9"
      },
      "execution_count": null,
      "outputs": [
        {
          "output_type": "execute_result",
          "data": {
            "text/plain": [
              "         completed_timestamp  duration  keystone_level  group_id   faction  \\\n",
              "0              1651064483000   1761004              27         0  alliance   \n",
              "1              1651064483000   1761004              27         0  alliance   \n",
              "2              1651064483000   1761004              27         0  alliance   \n",
              "3              1651064483000   1761004              27         0  alliance   \n",
              "4              1651064483000   1761004              27         0  alliance   \n",
              "...                      ...       ...             ...       ...       ...   \n",
              "3729255        1651245137000   1800799               2       351     horde   \n",
              "3729256        1651245137000   1800799               2       351  alliance   \n",
              "3729257        1651245137000   1800799               2       351  alliance   \n",
              "3729258        1651245137000   1800799               2       351  alliance   \n",
              "3729259        1651245137000   1800799               2       351     horde   \n",
              "\n",
              "         profile_id         name        realm  spec_id    crid    did    pid  \\\n",
              "0         180129619     discíple   azjolnerub      257  1417.0  392.0  852.0   \n",
              "1         202361626       shaene      aegwynn      581  1417.0  392.0  852.0   \n",
              "2         203079165           pg    frostmane      261  1417.0  392.0  852.0   \n",
              "3         136767090      yolcina    stormrage      267  1417.0  392.0  852.0   \n",
              "4          64764758     ismirana   blackmoore      255  1417.0  392.0  852.0   \n",
              "...             ...          ...          ...      ...     ...    ...    ...   \n",
              "3729255   169356254     núckfutz   shadowsong      267  3666.0  375.0  852.0   \n",
              "3729256    66838701    xgdawgxzz   hellscream       66  3666.0  375.0  852.0   \n",
              "3729257   253801087    alteriass     sylvanas      102  3666.0  375.0  852.0   \n",
              "3729258   153578684  chapardeuse  frostmourne      260  3666.0  375.0  852.0   \n",
              "3729259   169413318      crumpus   shadowsong      264  3666.0  375.0  852.0   \n",
              "\n",
              "                spec  \n",
              "0               holy  \n",
              "1          vengeance  \n",
              "2           subtlety  \n",
              "3        destruction  \n",
              "4           survival  \n",
              "...              ...  \n",
              "3729255  destruction  \n",
              "3729256   protection  \n",
              "3729257      balance  \n",
              "3729258       outlaw  \n",
              "3729259  restoration  \n",
              "\n",
              "[1133385 rows x 13 columns]"
            ],
            "text/html": [
              "\n",
              "  <div id=\"df-93c29043-99f9-4e04-8b6f-3e043ff3609c\">\n",
              "    <div class=\"colab-df-container\">\n",
              "      <div>\n",
              "<style scoped>\n",
              "    .dataframe tbody tr th:only-of-type {\n",
              "        vertical-align: middle;\n",
              "    }\n",
              "\n",
              "    .dataframe tbody tr th {\n",
              "        vertical-align: top;\n",
              "    }\n",
              "\n",
              "    .dataframe thead th {\n",
              "        text-align: right;\n",
              "    }\n",
              "</style>\n",
              "<table border=\"1\" class=\"dataframe\">\n",
              "  <thead>\n",
              "    <tr style=\"text-align: right;\">\n",
              "      <th></th>\n",
              "      <th>completed_timestamp</th>\n",
              "      <th>duration</th>\n",
              "      <th>keystone_level</th>\n",
              "      <th>group_id</th>\n",
              "      <th>faction</th>\n",
              "      <th>profile_id</th>\n",
              "      <th>name</th>\n",
              "      <th>realm</th>\n",
              "      <th>spec_id</th>\n",
              "      <th>crid</th>\n",
              "      <th>did</th>\n",
              "      <th>pid</th>\n",
              "      <th>spec</th>\n",
              "    </tr>\n",
              "  </thead>\n",
              "  <tbody>\n",
              "    <tr>\n",
              "      <th>0</th>\n",
              "      <td>1651064483000</td>\n",
              "      <td>1761004</td>\n",
              "      <td>27</td>\n",
              "      <td>0</td>\n",
              "      <td>alliance</td>\n",
              "      <td>180129619</td>\n",
              "      <td>discíple</td>\n",
              "      <td>azjolnerub</td>\n",
              "      <td>257</td>\n",
              "      <td>1417.0</td>\n",
              "      <td>392.0</td>\n",
              "      <td>852.0</td>\n",
              "      <td>holy</td>\n",
              "    </tr>\n",
              "    <tr>\n",
              "      <th>1</th>\n",
              "      <td>1651064483000</td>\n",
              "      <td>1761004</td>\n",
              "      <td>27</td>\n",
              "      <td>0</td>\n",
              "      <td>alliance</td>\n",
              "      <td>202361626</td>\n",
              "      <td>shaene</td>\n",
              "      <td>aegwynn</td>\n",
              "      <td>581</td>\n",
              "      <td>1417.0</td>\n",
              "      <td>392.0</td>\n",
              "      <td>852.0</td>\n",
              "      <td>vengeance</td>\n",
              "    </tr>\n",
              "    <tr>\n",
              "      <th>2</th>\n",
              "      <td>1651064483000</td>\n",
              "      <td>1761004</td>\n",
              "      <td>27</td>\n",
              "      <td>0</td>\n",
              "      <td>alliance</td>\n",
              "      <td>203079165</td>\n",
              "      <td>pg</td>\n",
              "      <td>frostmane</td>\n",
              "      <td>261</td>\n",
              "      <td>1417.0</td>\n",
              "      <td>392.0</td>\n",
              "      <td>852.0</td>\n",
              "      <td>subtlety</td>\n",
              "    </tr>\n",
              "    <tr>\n",
              "      <th>3</th>\n",
              "      <td>1651064483000</td>\n",
              "      <td>1761004</td>\n",
              "      <td>27</td>\n",
              "      <td>0</td>\n",
              "      <td>alliance</td>\n",
              "      <td>136767090</td>\n",
              "      <td>yolcina</td>\n",
              "      <td>stormrage</td>\n",
              "      <td>267</td>\n",
              "      <td>1417.0</td>\n",
              "      <td>392.0</td>\n",
              "      <td>852.0</td>\n",
              "      <td>destruction</td>\n",
              "    </tr>\n",
              "    <tr>\n",
              "      <th>4</th>\n",
              "      <td>1651064483000</td>\n",
              "      <td>1761004</td>\n",
              "      <td>27</td>\n",
              "      <td>0</td>\n",
              "      <td>alliance</td>\n",
              "      <td>64764758</td>\n",
              "      <td>ismirana</td>\n",
              "      <td>blackmoore</td>\n",
              "      <td>255</td>\n",
              "      <td>1417.0</td>\n",
              "      <td>392.0</td>\n",
              "      <td>852.0</td>\n",
              "      <td>survival</td>\n",
              "    </tr>\n",
              "    <tr>\n",
              "      <th>...</th>\n",
              "      <td>...</td>\n",
              "      <td>...</td>\n",
              "      <td>...</td>\n",
              "      <td>...</td>\n",
              "      <td>...</td>\n",
              "      <td>...</td>\n",
              "      <td>...</td>\n",
              "      <td>...</td>\n",
              "      <td>...</td>\n",
              "      <td>...</td>\n",
              "      <td>...</td>\n",
              "      <td>...</td>\n",
              "      <td>...</td>\n",
              "    </tr>\n",
              "    <tr>\n",
              "      <th>3729255</th>\n",
              "      <td>1651245137000</td>\n",
              "      <td>1800799</td>\n",
              "      <td>2</td>\n",
              "      <td>351</td>\n",
              "      <td>horde</td>\n",
              "      <td>169356254</td>\n",
              "      <td>núckfutz</td>\n",
              "      <td>shadowsong</td>\n",
              "      <td>267</td>\n",
              "      <td>3666.0</td>\n",
              "      <td>375.0</td>\n",
              "      <td>852.0</td>\n",
              "      <td>destruction</td>\n",
              "    </tr>\n",
              "    <tr>\n",
              "      <th>3729256</th>\n",
              "      <td>1651245137000</td>\n",
              "      <td>1800799</td>\n",
              "      <td>2</td>\n",
              "      <td>351</td>\n",
              "      <td>alliance</td>\n",
              "      <td>66838701</td>\n",
              "      <td>xgdawgxzz</td>\n",
              "      <td>hellscream</td>\n",
              "      <td>66</td>\n",
              "      <td>3666.0</td>\n",
              "      <td>375.0</td>\n",
              "      <td>852.0</td>\n",
              "      <td>protection</td>\n",
              "    </tr>\n",
              "    <tr>\n",
              "      <th>3729257</th>\n",
              "      <td>1651245137000</td>\n",
              "      <td>1800799</td>\n",
              "      <td>2</td>\n",
              "      <td>351</td>\n",
              "      <td>alliance</td>\n",
              "      <td>253801087</td>\n",
              "      <td>alteriass</td>\n",
              "      <td>sylvanas</td>\n",
              "      <td>102</td>\n",
              "      <td>3666.0</td>\n",
              "      <td>375.0</td>\n",
              "      <td>852.0</td>\n",
              "      <td>balance</td>\n",
              "    </tr>\n",
              "    <tr>\n",
              "      <th>3729258</th>\n",
              "      <td>1651245137000</td>\n",
              "      <td>1800799</td>\n",
              "      <td>2</td>\n",
              "      <td>351</td>\n",
              "      <td>alliance</td>\n",
              "      <td>153578684</td>\n",
              "      <td>chapardeuse</td>\n",
              "      <td>frostmourne</td>\n",
              "      <td>260</td>\n",
              "      <td>3666.0</td>\n",
              "      <td>375.0</td>\n",
              "      <td>852.0</td>\n",
              "      <td>outlaw</td>\n",
              "    </tr>\n",
              "    <tr>\n",
              "      <th>3729259</th>\n",
              "      <td>1651245137000</td>\n",
              "      <td>1800799</td>\n",
              "      <td>2</td>\n",
              "      <td>351</td>\n",
              "      <td>horde</td>\n",
              "      <td>169413318</td>\n",
              "      <td>crumpus</td>\n",
              "      <td>shadowsong</td>\n",
              "      <td>264</td>\n",
              "      <td>3666.0</td>\n",
              "      <td>375.0</td>\n",
              "      <td>852.0</td>\n",
              "      <td>restoration</td>\n",
              "    </tr>\n",
              "  </tbody>\n",
              "</table>\n",
              "<p>1133385 rows × 13 columns</p>\n",
              "</div>\n",
              "      <button class=\"colab-df-convert\" onclick=\"convertToInteractive('df-93c29043-99f9-4e04-8b6f-3e043ff3609c')\"\n",
              "              title=\"Convert this dataframe to an interactive table.\"\n",
              "              style=\"display:none;\">\n",
              "        \n",
              "  <svg xmlns=\"http://www.w3.org/2000/svg\" height=\"24px\"viewBox=\"0 0 24 24\"\n",
              "       width=\"24px\">\n",
              "    <path d=\"M0 0h24v24H0V0z\" fill=\"none\"/>\n",
              "    <path d=\"M18.56 5.44l.94 2.06.94-2.06 2.06-.94-2.06-.94-.94-2.06-.94 2.06-2.06.94zm-11 1L8.5 8.5l.94-2.06 2.06-.94-2.06-.94L8.5 2.5l-.94 2.06-2.06.94zm10 10l.94 2.06.94-2.06 2.06-.94-2.06-.94-.94-2.06-.94 2.06-2.06.94z\"/><path d=\"M17.41 7.96l-1.37-1.37c-.4-.4-.92-.59-1.43-.59-.52 0-1.04.2-1.43.59L10.3 9.45l-7.72 7.72c-.78.78-.78 2.05 0 2.83L4 21.41c.39.39.9.59 1.41.59.51 0 1.02-.2 1.41-.59l7.78-7.78 2.81-2.81c.8-.78.8-2.07 0-2.86zM5.41 20L4 18.59l7.72-7.72 1.47 1.35L5.41 20z\"/>\n",
              "  </svg>\n",
              "      </button>\n",
              "      \n",
              "  <style>\n",
              "    .colab-df-container {\n",
              "      display:flex;\n",
              "      flex-wrap:wrap;\n",
              "      gap: 12px;\n",
              "    }\n",
              "\n",
              "    .colab-df-convert {\n",
              "      background-color: #E8F0FE;\n",
              "      border: none;\n",
              "      border-radius: 50%;\n",
              "      cursor: pointer;\n",
              "      display: none;\n",
              "      fill: #1967D2;\n",
              "      height: 32px;\n",
              "      padding: 0 0 0 0;\n",
              "      width: 32px;\n",
              "    }\n",
              "\n",
              "    .colab-df-convert:hover {\n",
              "      background-color: #E2EBFA;\n",
              "      box-shadow: 0px 1px 2px rgba(60, 64, 67, 0.3), 0px 1px 3px 1px rgba(60, 64, 67, 0.15);\n",
              "      fill: #174EA6;\n",
              "    }\n",
              "\n",
              "    [theme=dark] .colab-df-convert {\n",
              "      background-color: #3B4455;\n",
              "      fill: #D2E3FC;\n",
              "    }\n",
              "\n",
              "    [theme=dark] .colab-df-convert:hover {\n",
              "      background-color: #434B5C;\n",
              "      box-shadow: 0px 1px 3px 1px rgba(0, 0, 0, 0.15);\n",
              "      filter: drop-shadow(0px 1px 2px rgba(0, 0, 0, 0.3));\n",
              "      fill: #FFFFFF;\n",
              "    }\n",
              "  </style>\n",
              "\n",
              "      <script>\n",
              "        const buttonEl =\n",
              "          document.querySelector('#df-93c29043-99f9-4e04-8b6f-3e043ff3609c button.colab-df-convert');\n",
              "        buttonEl.style.display =\n",
              "          google.colab.kernel.accessAllowed ? 'block' : 'none';\n",
              "\n",
              "        async function convertToInteractive(key) {\n",
              "          const element = document.querySelector('#df-93c29043-99f9-4e04-8b6f-3e043ff3609c');\n",
              "          const dataTable =\n",
              "            await google.colab.kernel.invokeFunction('convertToInteractive',\n",
              "                                                     [key], {});\n",
              "          if (!dataTable) return;\n",
              "\n",
              "          const docLinkHtml = 'Like what you see? Visit the ' +\n",
              "            '<a target=\"_blank\" href=https://colab.research.google.com/notebooks/data_table.ipynb>data table notebook</a>'\n",
              "            + ' to learn more about interactive tables.';\n",
              "          element.innerHTML = '';\n",
              "          dataTable['output_type'] = 'display_data';\n",
              "          await google.colab.output.renderOutput(dataTable, element);\n",
              "          const docLink = document.createElement('div');\n",
              "          docLink.innerHTML = docLinkHtml;\n",
              "          element.appendChild(docLink);\n",
              "        }\n",
              "      </script>\n",
              "    </div>\n",
              "  </div>\n",
              "  "
            ]
          },
          "metadata": {},
          "execution_count": 15
        }
      ]
    }
  ]
}