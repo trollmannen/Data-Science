{
  "nbformat": 4,
  "nbformat_minor": 0,
  "metadata": {
    "colab": {
      "name": "WoW-Auction-House-Data-Collector",
      "provenance": [],
      "collapsed_sections": [],
      "authorship_tag": "ABX9TyMYxY4CdndksVD02ZV4/lV0",
      "include_colab_link": true
    },
    "kernelspec": {
      "name": "python3",
      "display_name": "Python 3"
    },
    "language_info": {
      "name": "python"
    }
  },
  "cells": [
    {
      "cell_type": "markdown",
      "metadata": {
        "id": "view-in-github",
        "colab_type": "text"
      },
      "source": [
        "<a href=\"https://colab.research.google.com/github/trollmannen/Data-Science/blob/main/WoW-Auction-House-Data-Collector.ipynb\" target=\"_parent\"><img src=\"https://colab.research.google.com/assets/colab-badge.svg\" alt=\"Open In Colab\"/></a>"
      ]
    },
    {
      "cell_type": "code",
      "execution_count": null,
      "metadata": {
        "id": "pcsSRIWGINPp"
      },
      "outputs": [],
      "source": [
        "import numpy as np\n",
        "import pandas as pd\n",
        "import seaborn as sns\n",
        "from matplotlib import pyplot as plt"
      ]
    },
    {
      "cell_type": "code",
      "source": [
        "CLIENT_ID = \"\"\n",
        "CLIENT_SECRET = \"\"\n",
        "REGION = \"eu\" #\"us\"\n",
        "LOCALE = \"en_GB\" #\"en_US\""
      ],
      "metadata": {
        "id": "174lMi58IZaq"
      },
      "execution_count": 1,
      "outputs": []
    },
    {
      "cell_type": "code",
      "source": [
        "#!pip install python-blizzardapi"
      ],
      "metadata": {
        "id": "RkDuvuWwIfhe"
      },
      "execution_count": null,
      "outputs": []
    },
    {
      "cell_type": "code",
      "source": [
        "from blizzardapi import BlizzardApi\n",
        "api_client = BlizzardApi(CLIENT_ID, CLIENT_SECRET)"
      ],
      "metadata": {
        "id": "K5XaQUC0IiFQ"
      },
      "execution_count": null,
      "outputs": []
    },
    {
      "cell_type": "code",
      "execution_count": null,
      "metadata": {
        "colab": {
          "base_uri": "https://localhost:8080/"
        },
        "id": "0vJIA94cTyff",
        "outputId": "3f7da43a-579f-4740-b3da-90fd93217370"
      },
      "outputs": [
        {
          "output_type": "stream",
          "name": "stdout",
          "text": [
            "Drive already mounted at /content/drive; to attempt to forcibly remount, call drive.mount(\"/content/drive\", force_remount=True).\n"
          ]
        }
      ],
      "source": [
        "from google.colab import drive\n",
        "drive.mount('/content/drive')"
      ]
    },
    {
      "cell_type": "markdown",
      "source": [
        "## Part 1: Gather Data"
      ],
      "metadata": {
        "id": "KMg3-oo2LK0Q"
      }
    },
    {
      "cell_type": "code",
      "source": [
        "import requests\n",
        "def create_access_token():\n",
        "  data = { 'grant_type': 'client_credentials' }\n",
        "  response = requests.post(f'https://{REGION}.battle.net/oauth/token',\n",
        "                           data=data, auth=(CLIENT_ID, CLIENT_SECRET))\n",
        "  return response.json()['access_token']\n",
        "\n",
        "access_token = create_access_token()"
      ],
      "metadata": {
        "id": "-BF2DuG_S4IP"
      },
      "execution_count": null,
      "outputs": []
    },
    {
      "cell_type": "code",
      "source": [
        "def get_connected_realms_index(access_token):\n",
        "  connected_realms_index = {}\n",
        "  response = requests.get(f'https://{REGION}.api.blizzard.com/data/wow/search/'\n",
        "                          f'connected-realm?namespace=dynamic-{REGION}'\n",
        "                          f'&access_token={access_token}')\n",
        "  for connected_realm in response.json()['results']:\n",
        "    for realm in connected_realm['data']['realms']:\n",
        "      connected_realms_index[realm['slug']] = connected_realm['data']['id']\n",
        "\n",
        "  return pd.Series(connected_realms_index)\n",
        "\n",
        "connected_realms_index = get_connected_realms_index(access_token)"
      ],
      "metadata": {
        "id": "wzIMp0tuObmP"
      },
      "execution_count": null,
      "outputs": []
    },
    {
      "cell_type": "code",
      "source": [
        "def get_auctions(connected_realm_id):\n",
        "  auction_id,item_id,pet_breed_id,pet_level,pet_quality_id,pet_species_id,unit_price,buyout,quantity,time_left = ([] for i in range(10))\n",
        "  response = api_client.wow.game_data.get_auctions(REGION,\n",
        "                                                   LOCALE,\n",
        "                                                   connected_realm_id)\n",
        "  for auction in response['auctions']:\n",
        "    auction_id.append(auction['id'])    \n",
        "    item_id.append(auction['item']['id'])\n",
        "\n",
        "    if auction['item']['id'] == 82800:\n",
        "      pet_breed_id.append(auction['item']['pet_breed_id'])\n",
        "      pet_level.append(auction['item']['pet_level'])\n",
        "      pet_quality_id.append(auction['item']['pet_quality_id'])\n",
        "      pet_species_id.append(auction['item']['pet_species_id'])\n",
        "    else:\n",
        "      pet_breed_id.append(0)\n",
        "      pet_level.append(0)\n",
        "      pet_quality_id.append(0)\n",
        "      pet_species_id.append(0)\n",
        "\n",
        "    if 'unit_price' in auction:\n",
        "      unit_price.append(auction['unit_price'])\n",
        "    else:\n",
        "      unit_price.append(0)\n",
        "\n",
        "    if 'buyout' in auction:\n",
        "      buyout.append(auction['buyout'])\n",
        "    else:\n",
        "      buyout.append(0)\n",
        "\n",
        "    quantity.append(auction['quantity'])\n",
        "    time_left.append(auction['time_left'])\n",
        "\n",
        "  auctions = pd.DataFrame(list(zip(auction_id,item_id,pet_breed_id,pet_level,pet_quality_id,\n",
        "                                   pet_species_id,unit_price,buyout,quantity,time_left)),\n",
        "                          columns=['auction_id','item_id','pet_breed_id','pet_level','pet_quality_id',\n",
        "                                   'pet_species_id','unit_price','buyout','quantity','time_left'])\n",
        "  \n",
        "  auctions['crid'] = connected_realm_id\n",
        "\n",
        "  return auctions"
      ],
      "metadata": {
        "id": "er2rbViKMe6A"
      },
      "execution_count": null,
      "outputs": []
    },
    {
      "cell_type": "code",
      "source": [
        "all_auctions = pd.DataFrame(columns=['auction_id','item_id','pet_breed_id','pet_level','pet_quality_id',\n",
        "                                     'pet_species_id','unit_price','buyout','quantity','time_left','crid'])"
      ],
      "metadata": {
        "id": "-OXWe8bbxXSz"
      },
      "execution_count": null,
      "outputs": []
    },
    {
      "cell_type": "code",
      "source": [
        "from tqdm import tqdm\n",
        "for connected_realm_id in tqdm(connected_realms_index.unique()):\n",
        "  all_auctions = pd.concat([get_auctions(connected_realm_id),\n",
        "                            all_auctions], axis=0)\n"
      ],
      "metadata": {
        "colab": {
          "base_uri": "https://localhost:8080/"
        },
        "id": "RkQiFeI2yM--",
        "outputId": "e0c1d5bc-fa74-435d-cd43-54ee0d96a6c7"
      },
      "execution_count": null,
      "outputs": [
        {
          "output_type": "stream",
          "name": "stderr",
          "text": [
            "100%|██████████| 92/92 [03:30<00:00,  2.28s/it]\n"
          ]
        }
      ]
    },
    {
      "cell_type": "code",
      "source": [
        "def get_item(item_id):\n",
        "  item = api_client.wow.game_data.get_item(region=REGION,\n",
        "                                           locale=LOCALE,\n",
        "                                           item_id=item_id)\n",
        "  return item"
      ],
      "metadata": {
        "id": "dLm2hd6GCx0n"
      },
      "execution_count": null,
      "outputs": []
    },
    {
      "cell_type": "code",
      "source": [
        "def get_pet(pet_species_id):\n",
        "  pet = api_client.wow.game_data.get_pet(region=REGION,\n",
        "                                         locale=LOCALE,\n",
        "                                         pet_id=pet_species_id)\n",
        "  return pet"
      ],
      "metadata": {
        "id": "9Uv5x4JVnnhW"
      },
      "execution_count": null,
      "outputs": []
    },
    {
      "cell_type": "code",
      "source": [
        "all_auctions.to_csv('all_auctions.csv',index=False)"
      ],
      "metadata": {
        "id": "pqycvX7-HbNl"
      },
      "execution_count": null,
      "outputs": []
    },
    {
      "cell_type": "markdown",
      "source": [
        "## Part 2: Clean & Organize Data"
      ],
      "metadata": {
        "id": "v-WdDfVbBUno"
      }
    },
    {
      "cell_type": "code",
      "source": [
        "all_auctions = pd.read_csv('all_auctions.csv',index_col='auction_id')"
      ],
      "metadata": {
        "id": "29XatlqtHxa4"
      },
      "execution_count": null,
      "outputs": []
    },
    {
      "cell_type": "code",
      "source": [
        "all_auctions['buyout'] = all_auctions['unit_price'] + all_auctions['buyout']"
      ],
      "metadata": {
        "id": "UTjyMeGnp4yM"
      },
      "execution_count": null,
      "outputs": []
    },
    {
      "cell_type": "code",
      "source": [
        "all_auctions = all_auctions[all_auctions['buyout'] > 0].drop(columns=['unit_price'])"
      ],
      "metadata": {
        "id": "hkKV_fvrmoIE"
      },
      "execution_count": null,
      "outputs": []
    },
    {
      "cell_type": "code",
      "source": [
        "# todo: fix this monster\n",
        "all_auctions['gold'] = all_auctions['buyout'].astype(str).str[:-4]\n",
        "all_auctions['silver'] = all_auctions['buyout'].astype(str).str[-4:-2]\n",
        "all_auctions['copper'] = all_auctions['buyout'].astype(str).str[-2:]\n",
        "\n",
        "all_auctions['gold'] = pd.to_numeric(all_auctions['gold'])\n",
        "all_auctions['silver'] = pd.to_numeric(all_auctions['silver'])\n",
        "all_auctions['copper'] = pd.to_numeric(all_auctions['copper'])\n",
        "\n",
        "all_auctions['gold'] = all_auctions['gold'].fillna(0)\n",
        "all_auctions['silver'] = all_auctions['silver'].fillna(0)\n",
        "all_auctions['copper'] = all_auctions['copper'].fillna(0)\n",
        "\n",
        "all_auctions['gold'] = all_auctions['gold'].astype('int')\n",
        "all_auctions['silver'] = all_auctions['silver'].astype('int')\n",
        "all_auctions['copper'] = all_auctions['copper'].astype('int')"
      ],
      "metadata": {
        "id": "kVyyQkJQrlkb"
      },
      "execution_count": null,
      "outputs": []
    },
    {
      "cell_type": "code",
      "source": [
        "from datetime import datetime\n",
        "all_auctions['timestamp'] = datetime.now()\n",
        "#all_auctions = all_auctions.set_index('timestamp')"
      ],
      "metadata": {
        "id": "NsCJHe-B3zxg"
      },
      "execution_count": null,
      "outputs": []
    },
    {
      "cell_type": "code",
      "source": [
        "item_index = pd.read_csv('/content/drive/MyDrive/wow-ah/item_index.csv',\n",
        "                         index_col='id',squeeze=True)\n",
        "pet_index = pd.read_csv('/content/drive/MyDrive/wow-ah/pet_index.csv',\n",
        "                        index_col='id',squeeze=True)\n",
        "\n",
        "def index(ids,index,get_x):\n",
        "  for id in tqdm(ids):\n",
        "    if id in index:\n",
        "      continue\n",
        "    x = get_x(id)\n",
        "    try:\n",
        "      index[id] = x['name']\n",
        "    except KeyError:\n",
        "      index[id] = pd.NA\n",
        "\n",
        "index(all_auctions['item_id'].unique(),item_index,get_item)\n",
        "index(all_auctions['pet_species_id'].unique(),pet_index,get_pet)\n",
        "\n",
        "item_index.to_csv('/content/drive/MyDrive/wow-ah/item_index.csv')\n",
        "pet_index.to_csv('/content/drive/MyDrive/wow-ah/pet_index.csv')"
      ],
      "metadata": {
        "colab": {
          "base_uri": "https://localhost:8080/"
        },
        "id": "dZeNzS1KtvIT",
        "outputId": "0c65b3e7-93ab-454e-f642-c7387ce6adef"
      },
      "execution_count": null,
      "outputs": [
        {
          "output_type": "stream",
          "name": "stderr",
          "text": [
            "100%|██████████| 21912/21912 [00:00<00:00, 22247.72it/s]\n",
            "100%|██████████| 802/802 [00:00<00:00, 114326.61it/s]\n"
          ]
        }
      ]
    },
    {
      "cell_type": "code",
      "source": [
        "def set_name(item_id,pet_id):\n",
        "  if item_id == 82800:\n",
        "    return pet_index[pet_id]\n",
        "  return item_index[item_id]\n",
        "\n",
        "all_auctions['name'] = np.vectorize(set_name)(all_auctions['item_id'],\n",
        "                                              all_auctions['pet_species_id'])"
      ],
      "metadata": {
        "id": "RT01rpNg_l7b"
      },
      "execution_count": null,
      "outputs": []
    },
    {
      "cell_type": "code",
      "source": [
        "all_auctions['epoch_hours'] = all_auctions['timestamp'].view('int64')//1e9//3600\n",
        "all_auctions['epoch_hours'] = all_auctions['epoch_hours'].astype('int')"
      ],
      "metadata": {
        "id": "El7ZIfeWMTzq"
      },
      "execution_count": null,
      "outputs": []
    },
    {
      "cell_type": "markdown",
      "source": [
        "## Part 3: Store Data"
      ],
      "metadata": {
        "id": "vGJEp55QPoZZ"
      }
    },
    {
      "cell_type": "code",
      "source": [
        "#rolling_window = []"
      ],
      "metadata": {
        "id": "E3kK7CmQx7F8"
      },
      "execution_count": null,
      "outputs": []
    },
    {
      "cell_type": "code",
      "source": [
        "rolling_window.insert(0,all_auctions)\n",
        "if len(rolling_window) > 2:\n",
        "  rolling_window.pop()"
      ],
      "metadata": {
        "id": "cMoRzKHGxoro"
      },
      "execution_count": null,
      "outputs": []
    },
    {
      "cell_type": "code",
      "source": [
        "len(rolling_window[0])"
      ],
      "metadata": {
        "colab": {
          "base_uri": "https://localhost:8080/"
        },
        "id": "8JEnO8g4IcGq",
        "outputId": "8f9101b7-8d89-4a49-ed1a-276701666038"
      },
      "execution_count": null,
      "outputs": [
        {
          "output_type": "execute_result",
          "data": {
            "text/plain": [
              "4363148"
            ]
          },
          "metadata": {},
          "execution_count": 53
        }
      ]
    },
    {
      "cell_type": "code",
      "source": [
        "len(rolling_window[-1])"
      ],
      "metadata": {
        "colab": {
          "base_uri": "https://localhost:8080/"
        },
        "id": "16Y2-s-oIelK",
        "outputId": "e87192b1-cdf1-41e6-cf64-acc8029bd131"
      },
      "execution_count": null,
      "outputs": [
        {
          "output_type": "execute_result",
          "data": {
            "text/plain": [
              "4328639"
            ]
          },
          "metadata": {},
          "execution_count": 54
        }
      ]
    },
    {
      "cell_type": "code",
      "source": [
        "if len(rolling_window) > 1:\n",
        "  new = set(rolling_window[0].index)\n",
        "  old_no_short = set(rolling_window[-1][rolling_window[-1]['time_left'] != 'SHORT'].index)\n",
        "  old_only_short = set(rolling_window[-1][rolling_window[-1]['time_left'] == 'SHORT'].index)\n",
        "  old = set(rolling_window[-1].index)\n",
        "\n",
        "  sold_auctions = list(sorted(old_no_short - new))\n",
        "  new_auctions = list(sorted(new - old))\n",
        "  exceeded_auctions = list(sorted(old_only_short - new))"
      ],
      "metadata": {
        "id": "RtZjgMYVW0He"
      },
      "execution_count": null,
      "outputs": []
    },
    {
      "cell_type": "code",
      "source": [
        "len(sold_auctions)"
      ],
      "metadata": {
        "colab": {
          "base_uri": "https://localhost:8080/"
        },
        "id": "8SGiOABSU5lF",
        "outputId": "9334162b-3f38-40f7-fed5-7d22a615fe86"
      },
      "execution_count": null,
      "outputs": [
        {
          "output_type": "execute_result",
          "data": {
            "text/plain": [
              "161534"
            ]
          },
          "metadata": {},
          "execution_count": 56
        }
      ]
    },
    {
      "cell_type": "code",
      "source": [
        "len(new_auctions)"
      ],
      "metadata": {
        "id": "HCmXMIBSU9am",
        "outputId": "578606b6-3722-4f5d-abfa-25b68cad7a06",
        "colab": {
          "base_uri": "https://localhost:8080/"
        }
      },
      "execution_count": null,
      "outputs": [
        {
          "output_type": "execute_result",
          "data": {
            "text/plain": [
              "266459"
            ]
          },
          "metadata": {},
          "execution_count": 57
        }
      ]
    },
    {
      "cell_type": "code",
      "source": [
        "len(exceeded_auctions)"
      ],
      "metadata": {
        "colab": {
          "base_uri": "https://localhost:8080/"
        },
        "id": "8OoK0FPitEyp",
        "outputId": "1acdcc86-9d9b-4270-9f85-9be2318cd77d"
      },
      "execution_count": null,
      "outputs": [
        {
          "output_type": "execute_result",
          "data": {
            "text/plain": [
              "70416"
            ]
          },
          "metadata": {},
          "execution_count": 58
        }
      ]
    },
    {
      "cell_type": "code",
      "source": [
        "sold = rolling_window[-1][rolling_window[-1].index.isin(sold_auctions)]"
      ],
      "metadata": {
        "id": "lFOE4wxwyD6O"
      },
      "execution_count": null,
      "outputs": []
    },
    {
      "cell_type": "code",
      "source": [
        "sold.groupby('pet_species_id').count().nlargest(10,'gold')"
      ],
      "metadata": {
        "colab": {
          "base_uri": "https://localhost:8080/",
          "height": 394
        },
        "id": "RrsHUVD2reZa",
        "outputId": "f1e9cdb1-570d-4316-ef22-ca66329df3f0"
      },
      "execution_count": null,
      "outputs": [
        {
          "output_type": "execute_result",
          "data": {
            "text/plain": [
              "                item_id  pet_breed_id  pet_level  pet_quality_id  buyout  \\\n",
              "pet_species_id                                                             \n",
              "0                150796        150796     150796          150796  150796   \n",
              "2916                 92            92         92              92      92   \n",
              "200                  86            86         86              86      86   \n",
              "3064                 82            82         82              82      82   \n",
              "3044                 64            64         64              64      64   \n",
              "122                  61            61         61              61      61   \n",
              "2468                 51            51         51              51      51   \n",
              "3006                 49            49         49              49      49   \n",
              "1151                 46            46         46              46      46   \n",
              "2463                 44            44         44              44      44   \n",
              "\n",
              "                quantity  time_left    crid    gold  silver  copper  \\\n",
              "pet_species_id                                                        \n",
              "0                 150796     150796  150796  150796  150796  150796   \n",
              "2916                  92         92      92      92      92      92   \n",
              "200                   86         86      86      86      86      86   \n",
              "3064                  82         82      82      82      82      82   \n",
              "3044                  64         64      64      64      64      64   \n",
              "122                   61         61      61      61      61      61   \n",
              "2468                  51         51      51      51      51      51   \n",
              "3006                  49         49      49      49      49      49   \n",
              "1151                  46         46      46      46      46      46   \n",
              "2463                  44         44      44      44      44      44   \n",
              "\n",
              "                timestamp    name  epoch_hours  \n",
              "pet_species_id                                  \n",
              "0                  150796  150796       150796  \n",
              "2916                   92      92           92  \n",
              "200                    86      86           86  \n",
              "3064                   82      82           82  \n",
              "3044                   64      64           64  \n",
              "122                    61      61           61  \n",
              "2468                   51      51           51  \n",
              "3006                   49      49           49  \n",
              "1151                   46      46           46  \n",
              "2463                   44      44           44  "
            ],
            "text/html": [
              "\n",
              "  <div id=\"df-887f7721-2219-428b-9aa8-e652ecb429f9\">\n",
              "    <div class=\"colab-df-container\">\n",
              "      <div>\n",
              "<style scoped>\n",
              "    .dataframe tbody tr th:only-of-type {\n",
              "        vertical-align: middle;\n",
              "    }\n",
              "\n",
              "    .dataframe tbody tr th {\n",
              "        vertical-align: top;\n",
              "    }\n",
              "\n",
              "    .dataframe thead th {\n",
              "        text-align: right;\n",
              "    }\n",
              "</style>\n",
              "<table border=\"1\" class=\"dataframe\">\n",
              "  <thead>\n",
              "    <tr style=\"text-align: right;\">\n",
              "      <th></th>\n",
              "      <th>item_id</th>\n",
              "      <th>pet_breed_id</th>\n",
              "      <th>pet_level</th>\n",
              "      <th>pet_quality_id</th>\n",
              "      <th>buyout</th>\n",
              "      <th>quantity</th>\n",
              "      <th>time_left</th>\n",
              "      <th>crid</th>\n",
              "      <th>gold</th>\n",
              "      <th>silver</th>\n",
              "      <th>copper</th>\n",
              "      <th>timestamp</th>\n",
              "      <th>name</th>\n",
              "      <th>epoch_hours</th>\n",
              "    </tr>\n",
              "    <tr>\n",
              "      <th>pet_species_id</th>\n",
              "      <th></th>\n",
              "      <th></th>\n",
              "      <th></th>\n",
              "      <th></th>\n",
              "      <th></th>\n",
              "      <th></th>\n",
              "      <th></th>\n",
              "      <th></th>\n",
              "      <th></th>\n",
              "      <th></th>\n",
              "      <th></th>\n",
              "      <th></th>\n",
              "      <th></th>\n",
              "      <th></th>\n",
              "    </tr>\n",
              "  </thead>\n",
              "  <tbody>\n",
              "    <tr>\n",
              "      <th>0</th>\n",
              "      <td>150796</td>\n",
              "      <td>150796</td>\n",
              "      <td>150796</td>\n",
              "      <td>150796</td>\n",
              "      <td>150796</td>\n",
              "      <td>150796</td>\n",
              "      <td>150796</td>\n",
              "      <td>150796</td>\n",
              "      <td>150796</td>\n",
              "      <td>150796</td>\n",
              "      <td>150796</td>\n",
              "      <td>150796</td>\n",
              "      <td>150796</td>\n",
              "      <td>150796</td>\n",
              "    </tr>\n",
              "    <tr>\n",
              "      <th>2916</th>\n",
              "      <td>92</td>\n",
              "      <td>92</td>\n",
              "      <td>92</td>\n",
              "      <td>92</td>\n",
              "      <td>92</td>\n",
              "      <td>92</td>\n",
              "      <td>92</td>\n",
              "      <td>92</td>\n",
              "      <td>92</td>\n",
              "      <td>92</td>\n",
              "      <td>92</td>\n",
              "      <td>92</td>\n",
              "      <td>92</td>\n",
              "      <td>92</td>\n",
              "    </tr>\n",
              "    <tr>\n",
              "      <th>200</th>\n",
              "      <td>86</td>\n",
              "      <td>86</td>\n",
              "      <td>86</td>\n",
              "      <td>86</td>\n",
              "      <td>86</td>\n",
              "      <td>86</td>\n",
              "      <td>86</td>\n",
              "      <td>86</td>\n",
              "      <td>86</td>\n",
              "      <td>86</td>\n",
              "      <td>86</td>\n",
              "      <td>86</td>\n",
              "      <td>86</td>\n",
              "      <td>86</td>\n",
              "    </tr>\n",
              "    <tr>\n",
              "      <th>3064</th>\n",
              "      <td>82</td>\n",
              "      <td>82</td>\n",
              "      <td>82</td>\n",
              "      <td>82</td>\n",
              "      <td>82</td>\n",
              "      <td>82</td>\n",
              "      <td>82</td>\n",
              "      <td>82</td>\n",
              "      <td>82</td>\n",
              "      <td>82</td>\n",
              "      <td>82</td>\n",
              "      <td>82</td>\n",
              "      <td>82</td>\n",
              "      <td>82</td>\n",
              "    </tr>\n",
              "    <tr>\n",
              "      <th>3044</th>\n",
              "      <td>64</td>\n",
              "      <td>64</td>\n",
              "      <td>64</td>\n",
              "      <td>64</td>\n",
              "      <td>64</td>\n",
              "      <td>64</td>\n",
              "      <td>64</td>\n",
              "      <td>64</td>\n",
              "      <td>64</td>\n",
              "      <td>64</td>\n",
              "      <td>64</td>\n",
              "      <td>64</td>\n",
              "      <td>64</td>\n",
              "      <td>64</td>\n",
              "    </tr>\n",
              "    <tr>\n",
              "      <th>122</th>\n",
              "      <td>61</td>\n",
              "      <td>61</td>\n",
              "      <td>61</td>\n",
              "      <td>61</td>\n",
              "      <td>61</td>\n",
              "      <td>61</td>\n",
              "      <td>61</td>\n",
              "      <td>61</td>\n",
              "      <td>61</td>\n",
              "      <td>61</td>\n",
              "      <td>61</td>\n",
              "      <td>61</td>\n",
              "      <td>61</td>\n",
              "      <td>61</td>\n",
              "    </tr>\n",
              "    <tr>\n",
              "      <th>2468</th>\n",
              "      <td>51</td>\n",
              "      <td>51</td>\n",
              "      <td>51</td>\n",
              "      <td>51</td>\n",
              "      <td>51</td>\n",
              "      <td>51</td>\n",
              "      <td>51</td>\n",
              "      <td>51</td>\n",
              "      <td>51</td>\n",
              "      <td>51</td>\n",
              "      <td>51</td>\n",
              "      <td>51</td>\n",
              "      <td>51</td>\n",
              "      <td>51</td>\n",
              "    </tr>\n",
              "    <tr>\n",
              "      <th>3006</th>\n",
              "      <td>49</td>\n",
              "      <td>49</td>\n",
              "      <td>49</td>\n",
              "      <td>49</td>\n",
              "      <td>49</td>\n",
              "      <td>49</td>\n",
              "      <td>49</td>\n",
              "      <td>49</td>\n",
              "      <td>49</td>\n",
              "      <td>49</td>\n",
              "      <td>49</td>\n",
              "      <td>49</td>\n",
              "      <td>49</td>\n",
              "      <td>49</td>\n",
              "    </tr>\n",
              "    <tr>\n",
              "      <th>1151</th>\n",
              "      <td>46</td>\n",
              "      <td>46</td>\n",
              "      <td>46</td>\n",
              "      <td>46</td>\n",
              "      <td>46</td>\n",
              "      <td>46</td>\n",
              "      <td>46</td>\n",
              "      <td>46</td>\n",
              "      <td>46</td>\n",
              "      <td>46</td>\n",
              "      <td>46</td>\n",
              "      <td>46</td>\n",
              "      <td>46</td>\n",
              "      <td>46</td>\n",
              "    </tr>\n",
              "    <tr>\n",
              "      <th>2463</th>\n",
              "      <td>44</td>\n",
              "      <td>44</td>\n",
              "      <td>44</td>\n",
              "      <td>44</td>\n",
              "      <td>44</td>\n",
              "      <td>44</td>\n",
              "      <td>44</td>\n",
              "      <td>44</td>\n",
              "      <td>44</td>\n",
              "      <td>44</td>\n",
              "      <td>44</td>\n",
              "      <td>44</td>\n",
              "      <td>44</td>\n",
              "      <td>44</td>\n",
              "    </tr>\n",
              "  </tbody>\n",
              "</table>\n",
              "</div>\n",
              "      <button class=\"colab-df-convert\" onclick=\"convertToInteractive('df-887f7721-2219-428b-9aa8-e652ecb429f9')\"\n",
              "              title=\"Convert this dataframe to an interactive table.\"\n",
              "              style=\"display:none;\">\n",
              "        \n",
              "  <svg xmlns=\"http://www.w3.org/2000/svg\" height=\"24px\"viewBox=\"0 0 24 24\"\n",
              "       width=\"24px\">\n",
              "    <path d=\"M0 0h24v24H0V0z\" fill=\"none\"/>\n",
              "    <path d=\"M18.56 5.44l.94 2.06.94-2.06 2.06-.94-2.06-.94-.94-2.06-.94 2.06-2.06.94zm-11 1L8.5 8.5l.94-2.06 2.06-.94-2.06-.94L8.5 2.5l-.94 2.06-2.06.94zm10 10l.94 2.06.94-2.06 2.06-.94-2.06-.94-.94-2.06-.94 2.06-2.06.94z\"/><path d=\"M17.41 7.96l-1.37-1.37c-.4-.4-.92-.59-1.43-.59-.52 0-1.04.2-1.43.59L10.3 9.45l-7.72 7.72c-.78.78-.78 2.05 0 2.83L4 21.41c.39.39.9.59 1.41.59.51 0 1.02-.2 1.41-.59l7.78-7.78 2.81-2.81c.8-.78.8-2.07 0-2.86zM5.41 20L4 18.59l7.72-7.72 1.47 1.35L5.41 20z\"/>\n",
              "  </svg>\n",
              "      </button>\n",
              "      \n",
              "  <style>\n",
              "    .colab-df-container {\n",
              "      display:flex;\n",
              "      flex-wrap:wrap;\n",
              "      gap: 12px;\n",
              "    }\n",
              "\n",
              "    .colab-df-convert {\n",
              "      background-color: #E8F0FE;\n",
              "      border: none;\n",
              "      border-radius: 50%;\n",
              "      cursor: pointer;\n",
              "      display: none;\n",
              "      fill: #1967D2;\n",
              "      height: 32px;\n",
              "      padding: 0 0 0 0;\n",
              "      width: 32px;\n",
              "    }\n",
              "\n",
              "    .colab-df-convert:hover {\n",
              "      background-color: #E2EBFA;\n",
              "      box-shadow: 0px 1px 2px rgba(60, 64, 67, 0.3), 0px 1px 3px 1px rgba(60, 64, 67, 0.15);\n",
              "      fill: #174EA6;\n",
              "    }\n",
              "\n",
              "    [theme=dark] .colab-df-convert {\n",
              "      background-color: #3B4455;\n",
              "      fill: #D2E3FC;\n",
              "    }\n",
              "\n",
              "    [theme=dark] .colab-df-convert:hover {\n",
              "      background-color: #434B5C;\n",
              "      box-shadow: 0px 1px 3px 1px rgba(0, 0, 0, 0.15);\n",
              "      filter: drop-shadow(0px 1px 2px rgba(0, 0, 0, 0.3));\n",
              "      fill: #FFFFFF;\n",
              "    }\n",
              "  </style>\n",
              "\n",
              "      <script>\n",
              "        const buttonEl =\n",
              "          document.querySelector('#df-887f7721-2219-428b-9aa8-e652ecb429f9 button.colab-df-convert');\n",
              "        buttonEl.style.display =\n",
              "          google.colab.kernel.accessAllowed ? 'block' : 'none';\n",
              "\n",
              "        async function convertToInteractive(key) {\n",
              "          const element = document.querySelector('#df-887f7721-2219-428b-9aa8-e652ecb429f9');\n",
              "          const dataTable =\n",
              "            await google.colab.kernel.invokeFunction('convertToInteractive',\n",
              "                                                     [key], {});\n",
              "          if (!dataTable) return;\n",
              "\n",
              "          const docLinkHtml = 'Like what you see? Visit the ' +\n",
              "            '<a target=\"_blank\" href=https://colab.research.google.com/notebooks/data_table.ipynb>data table notebook</a>'\n",
              "            + ' to learn more about interactive tables.';\n",
              "          element.innerHTML = '';\n",
              "          dataTable['output_type'] = 'display_data';\n",
              "          await google.colab.output.renderOutput(dataTable, element);\n",
              "          const docLink = document.createElement('div');\n",
              "          docLink.innerHTML = docLinkHtml;\n",
              "          element.appendChild(docLink);\n",
              "        }\n",
              "      </script>\n",
              "    </div>\n",
              "  </div>\n",
              "  "
            ]
          },
          "metadata": {},
          "execution_count": 101
        }
      ]
    },
    {
      "cell_type": "code",
      "source": [
        "get_item(2916)['name']"
      ],
      "metadata": {
        "colab": {
          "base_uri": "https://localhost:8080/",
          "height": 35
        },
        "id": "KrW84pNCrzhd",
        "outputId": "5ab848cd-4d8c-4a4c-e88c-b4ec5cee47dc"
      },
      "execution_count": null,
      "outputs": [
        {
          "output_type": "execute_result",
          "data": {
            "text/plain": [
              "'Desolate Leather'"
            ],
            "application/vnd.google.colaboratory.intrinsic+json": {
              "type": "string"
            }
          },
          "metadata": {},
          "execution_count": 100
        }
      ]
    },
    {
      "cell_type": "code",
      "source": [
        "get_pet(2916)['name']"
      ],
      "metadata": {
        "colab": {
          "base_uri": "https://localhost:8080/",
          "height": 35
        },
        "id": "JnZc6T-hsF8b",
        "outputId": "f9dcac93-86eb-4ecf-b439-d23120617cf7"
      },
      "execution_count": null,
      "outputs": [
        {
          "output_type": "execute_result",
          "data": {
            "text/plain": [
              "'Hungry Burrower'"
            ],
            "application/vnd.google.colaboratory.intrinsic+json": {
              "type": "string"
            }
          },
          "metadata": {},
          "execution_count": 112
        }
      ]
    },
    {
      "cell_type": "code",
      "source": [
        "all_auctions[all_auctions['pet_species_id']==2463]"
      ],
      "metadata": {
        "colab": {
          "base_uri": "https://localhost:8080/",
          "height": 455
        },
        "id": "mJBoNXoQtL-e",
        "outputId": "068b71a9-a575-4ea6-9a3e-8e64c8ecb6c4"
      },
      "execution_count": null,
      "outputs": [
        {
          "output_type": "execute_result",
          "data": {
            "text/plain": [
              "            item_id  pet_breed_id  pet_level  pet_quality_id  pet_species_id  \\\n",
              "auction_id                                                                     \n",
              "1439739810    82800             9          1               3            2463   \n",
              "1439761349    82800             9          1               3            2463   \n",
              "1440019913    82800             9          1               3            2463   \n",
              "1440112217    82800             9         25               3            2463   \n",
              "1440112220    82800             9         25               3            2463   \n",
              "...             ...           ...        ...             ...             ...   \n",
              "1341159662    82800             9         25               3            2463   \n",
              "55114438      82800             9          1               3            2463   \n",
              "56065039      82800             9         25               3            2463   \n",
              "56131633      82800             9         25               3            2463   \n",
              "56367782      82800             9         25               3            2463   \n",
              "\n",
              "               buyout  quantity  time_left  crid   gold  silver  copper  \\\n",
              "auction_id                                                                \n",
              "1439739810   10000000         1      SHORT  1127   1000       0       0   \n",
              "1439761349    7374100         1     MEDIUM  1127    737      41       0   \n",
              "1440019913    7374100         1       LONG  1127    737      41       0   \n",
              "1440112217  111780000         1  VERY_LONG  1127  11178       0       0   \n",
              "1440112220  111780000         1  VERY_LONG  1127  11178       0       0   \n",
              "...               ...       ...        ...   ...    ...     ...     ...   \n",
              "1341159662    9979900         1       LONG  3686    997      99       0   \n",
              "55114438      3000000         1     MEDIUM  1623    300       0       0   \n",
              "56065039     79990000         1  VERY_LONG  1623   7999       0       0   \n",
              "56131633     58760000         1  VERY_LONG  1623   5876       0       0   \n",
              "56367782     58749900         1  VERY_LONG  1623   5874      99       0   \n",
              "\n",
              "                            timestamp                 name  epoch_hours  \n",
              "auction_id                                                               \n",
              "1439739810 2022-04-26 16:06:40.423672  Sandshell Chitterer       458608  \n",
              "1439761349 2022-04-26 16:06:40.423672  Sandshell Chitterer       458608  \n",
              "1440019913 2022-04-26 16:06:40.423672  Sandshell Chitterer       458608  \n",
              "1440112217 2022-04-26 16:06:40.423672  Sandshell Chitterer       458608  \n",
              "1440112220 2022-04-26 16:06:40.423672  Sandshell Chitterer       458608  \n",
              "...                               ...                  ...          ...  \n",
              "1341159662 2022-04-26 16:06:40.423672  Sandshell Chitterer       458608  \n",
              "55114438   2022-04-26 16:06:40.423672  Sandshell Chitterer       458608  \n",
              "56065039   2022-04-26 16:06:40.423672  Sandshell Chitterer       458608  \n",
              "56131633   2022-04-26 16:06:40.423672  Sandshell Chitterer       458608  \n",
              "56367782   2022-04-26 16:06:40.423672  Sandshell Chitterer       458608  \n",
              "\n",
              "[796 rows x 15 columns]"
            ],
            "text/html": [
              "\n",
              "  <div id=\"df-f0c2e22d-6a69-4db6-b37f-ddbab33503ca\">\n",
              "    <div class=\"colab-df-container\">\n",
              "      <div>\n",
              "<style scoped>\n",
              "    .dataframe tbody tr th:only-of-type {\n",
              "        vertical-align: middle;\n",
              "    }\n",
              "\n",
              "    .dataframe tbody tr th {\n",
              "        vertical-align: top;\n",
              "    }\n",
              "\n",
              "    .dataframe thead th {\n",
              "        text-align: right;\n",
              "    }\n",
              "</style>\n",
              "<table border=\"1\" class=\"dataframe\">\n",
              "  <thead>\n",
              "    <tr style=\"text-align: right;\">\n",
              "      <th></th>\n",
              "      <th>item_id</th>\n",
              "      <th>pet_breed_id</th>\n",
              "      <th>pet_level</th>\n",
              "      <th>pet_quality_id</th>\n",
              "      <th>pet_species_id</th>\n",
              "      <th>buyout</th>\n",
              "      <th>quantity</th>\n",
              "      <th>time_left</th>\n",
              "      <th>crid</th>\n",
              "      <th>gold</th>\n",
              "      <th>silver</th>\n",
              "      <th>copper</th>\n",
              "      <th>timestamp</th>\n",
              "      <th>name</th>\n",
              "      <th>epoch_hours</th>\n",
              "    </tr>\n",
              "    <tr>\n",
              "      <th>auction_id</th>\n",
              "      <th></th>\n",
              "      <th></th>\n",
              "      <th></th>\n",
              "      <th></th>\n",
              "      <th></th>\n",
              "      <th></th>\n",
              "      <th></th>\n",
              "      <th></th>\n",
              "      <th></th>\n",
              "      <th></th>\n",
              "      <th></th>\n",
              "      <th></th>\n",
              "      <th></th>\n",
              "      <th></th>\n",
              "      <th></th>\n",
              "    </tr>\n",
              "  </thead>\n",
              "  <tbody>\n",
              "    <tr>\n",
              "      <th>1439739810</th>\n",
              "      <td>82800</td>\n",
              "      <td>9</td>\n",
              "      <td>1</td>\n",
              "      <td>3</td>\n",
              "      <td>2463</td>\n",
              "      <td>10000000</td>\n",
              "      <td>1</td>\n",
              "      <td>SHORT</td>\n",
              "      <td>1127</td>\n",
              "      <td>1000</td>\n",
              "      <td>0</td>\n",
              "      <td>0</td>\n",
              "      <td>2022-04-26 16:06:40.423672</td>\n",
              "      <td>Sandshell Chitterer</td>\n",
              "      <td>458608</td>\n",
              "    </tr>\n",
              "    <tr>\n",
              "      <th>1439761349</th>\n",
              "      <td>82800</td>\n",
              "      <td>9</td>\n",
              "      <td>1</td>\n",
              "      <td>3</td>\n",
              "      <td>2463</td>\n",
              "      <td>7374100</td>\n",
              "      <td>1</td>\n",
              "      <td>MEDIUM</td>\n",
              "      <td>1127</td>\n",
              "      <td>737</td>\n",
              "      <td>41</td>\n",
              "      <td>0</td>\n",
              "      <td>2022-04-26 16:06:40.423672</td>\n",
              "      <td>Sandshell Chitterer</td>\n",
              "      <td>458608</td>\n",
              "    </tr>\n",
              "    <tr>\n",
              "      <th>1440019913</th>\n",
              "      <td>82800</td>\n",
              "      <td>9</td>\n",
              "      <td>1</td>\n",
              "      <td>3</td>\n",
              "      <td>2463</td>\n",
              "      <td>7374100</td>\n",
              "      <td>1</td>\n",
              "      <td>LONG</td>\n",
              "      <td>1127</td>\n",
              "      <td>737</td>\n",
              "      <td>41</td>\n",
              "      <td>0</td>\n",
              "      <td>2022-04-26 16:06:40.423672</td>\n",
              "      <td>Sandshell Chitterer</td>\n",
              "      <td>458608</td>\n",
              "    </tr>\n",
              "    <tr>\n",
              "      <th>1440112217</th>\n",
              "      <td>82800</td>\n",
              "      <td>9</td>\n",
              "      <td>25</td>\n",
              "      <td>3</td>\n",
              "      <td>2463</td>\n",
              "      <td>111780000</td>\n",
              "      <td>1</td>\n",
              "      <td>VERY_LONG</td>\n",
              "      <td>1127</td>\n",
              "      <td>11178</td>\n",
              "      <td>0</td>\n",
              "      <td>0</td>\n",
              "      <td>2022-04-26 16:06:40.423672</td>\n",
              "      <td>Sandshell Chitterer</td>\n",
              "      <td>458608</td>\n",
              "    </tr>\n",
              "    <tr>\n",
              "      <th>1440112220</th>\n",
              "      <td>82800</td>\n",
              "      <td>9</td>\n",
              "      <td>25</td>\n",
              "      <td>3</td>\n",
              "      <td>2463</td>\n",
              "      <td>111780000</td>\n",
              "      <td>1</td>\n",
              "      <td>VERY_LONG</td>\n",
              "      <td>1127</td>\n",
              "      <td>11178</td>\n",
              "      <td>0</td>\n",
              "      <td>0</td>\n",
              "      <td>2022-04-26 16:06:40.423672</td>\n",
              "      <td>Sandshell Chitterer</td>\n",
              "      <td>458608</td>\n",
              "    </tr>\n",
              "    <tr>\n",
              "      <th>...</th>\n",
              "      <td>...</td>\n",
              "      <td>...</td>\n",
              "      <td>...</td>\n",
              "      <td>...</td>\n",
              "      <td>...</td>\n",
              "      <td>...</td>\n",
              "      <td>...</td>\n",
              "      <td>...</td>\n",
              "      <td>...</td>\n",
              "      <td>...</td>\n",
              "      <td>...</td>\n",
              "      <td>...</td>\n",
              "      <td>...</td>\n",
              "      <td>...</td>\n",
              "      <td>...</td>\n",
              "    </tr>\n",
              "    <tr>\n",
              "      <th>1341159662</th>\n",
              "      <td>82800</td>\n",
              "      <td>9</td>\n",
              "      <td>25</td>\n",
              "      <td>3</td>\n",
              "      <td>2463</td>\n",
              "      <td>9979900</td>\n",
              "      <td>1</td>\n",
              "      <td>LONG</td>\n",
              "      <td>3686</td>\n",
              "      <td>997</td>\n",
              "      <td>99</td>\n",
              "      <td>0</td>\n",
              "      <td>2022-04-26 16:06:40.423672</td>\n",
              "      <td>Sandshell Chitterer</td>\n",
              "      <td>458608</td>\n",
              "    </tr>\n",
              "    <tr>\n",
              "      <th>55114438</th>\n",
              "      <td>82800</td>\n",
              "      <td>9</td>\n",
              "      <td>1</td>\n",
              "      <td>3</td>\n",
              "      <td>2463</td>\n",
              "      <td>3000000</td>\n",
              "      <td>1</td>\n",
              "      <td>MEDIUM</td>\n",
              "      <td>1623</td>\n",
              "      <td>300</td>\n",
              "      <td>0</td>\n",
              "      <td>0</td>\n",
              "      <td>2022-04-26 16:06:40.423672</td>\n",
              "      <td>Sandshell Chitterer</td>\n",
              "      <td>458608</td>\n",
              "    </tr>\n",
              "    <tr>\n",
              "      <th>56065039</th>\n",
              "      <td>82800</td>\n",
              "      <td>9</td>\n",
              "      <td>25</td>\n",
              "      <td>3</td>\n",
              "      <td>2463</td>\n",
              "      <td>79990000</td>\n",
              "      <td>1</td>\n",
              "      <td>VERY_LONG</td>\n",
              "      <td>1623</td>\n",
              "      <td>7999</td>\n",
              "      <td>0</td>\n",
              "      <td>0</td>\n",
              "      <td>2022-04-26 16:06:40.423672</td>\n",
              "      <td>Sandshell Chitterer</td>\n",
              "      <td>458608</td>\n",
              "    </tr>\n",
              "    <tr>\n",
              "      <th>56131633</th>\n",
              "      <td>82800</td>\n",
              "      <td>9</td>\n",
              "      <td>25</td>\n",
              "      <td>3</td>\n",
              "      <td>2463</td>\n",
              "      <td>58760000</td>\n",
              "      <td>1</td>\n",
              "      <td>VERY_LONG</td>\n",
              "      <td>1623</td>\n",
              "      <td>5876</td>\n",
              "      <td>0</td>\n",
              "      <td>0</td>\n",
              "      <td>2022-04-26 16:06:40.423672</td>\n",
              "      <td>Sandshell Chitterer</td>\n",
              "      <td>458608</td>\n",
              "    </tr>\n",
              "    <tr>\n",
              "      <th>56367782</th>\n",
              "      <td>82800</td>\n",
              "      <td>9</td>\n",
              "      <td>25</td>\n",
              "      <td>3</td>\n",
              "      <td>2463</td>\n",
              "      <td>58749900</td>\n",
              "      <td>1</td>\n",
              "      <td>VERY_LONG</td>\n",
              "      <td>1623</td>\n",
              "      <td>5874</td>\n",
              "      <td>99</td>\n",
              "      <td>0</td>\n",
              "      <td>2022-04-26 16:06:40.423672</td>\n",
              "      <td>Sandshell Chitterer</td>\n",
              "      <td>458608</td>\n",
              "    </tr>\n",
              "  </tbody>\n",
              "</table>\n",
              "<p>796 rows × 15 columns</p>\n",
              "</div>\n",
              "      <button class=\"colab-df-convert\" onclick=\"convertToInteractive('df-f0c2e22d-6a69-4db6-b37f-ddbab33503ca')\"\n",
              "              title=\"Convert this dataframe to an interactive table.\"\n",
              "              style=\"display:none;\">\n",
              "        \n",
              "  <svg xmlns=\"http://www.w3.org/2000/svg\" height=\"24px\"viewBox=\"0 0 24 24\"\n",
              "       width=\"24px\">\n",
              "    <path d=\"M0 0h24v24H0V0z\" fill=\"none\"/>\n",
              "    <path d=\"M18.56 5.44l.94 2.06.94-2.06 2.06-.94-2.06-.94-.94-2.06-.94 2.06-2.06.94zm-11 1L8.5 8.5l.94-2.06 2.06-.94-2.06-.94L8.5 2.5l-.94 2.06-2.06.94zm10 10l.94 2.06.94-2.06 2.06-.94-2.06-.94-.94-2.06-.94 2.06-2.06.94z\"/><path d=\"M17.41 7.96l-1.37-1.37c-.4-.4-.92-.59-1.43-.59-.52 0-1.04.2-1.43.59L10.3 9.45l-7.72 7.72c-.78.78-.78 2.05 0 2.83L4 21.41c.39.39.9.59 1.41.59.51 0 1.02-.2 1.41-.59l7.78-7.78 2.81-2.81c.8-.78.8-2.07 0-2.86zM5.41 20L4 18.59l7.72-7.72 1.47 1.35L5.41 20z\"/>\n",
              "  </svg>\n",
              "      </button>\n",
              "      \n",
              "  <style>\n",
              "    .colab-df-container {\n",
              "      display:flex;\n",
              "      flex-wrap:wrap;\n",
              "      gap: 12px;\n",
              "    }\n",
              "\n",
              "    .colab-df-convert {\n",
              "      background-color: #E8F0FE;\n",
              "      border: none;\n",
              "      border-radius: 50%;\n",
              "      cursor: pointer;\n",
              "      display: none;\n",
              "      fill: #1967D2;\n",
              "      height: 32px;\n",
              "      padding: 0 0 0 0;\n",
              "      width: 32px;\n",
              "    }\n",
              "\n",
              "    .colab-df-convert:hover {\n",
              "      background-color: #E2EBFA;\n",
              "      box-shadow: 0px 1px 2px rgba(60, 64, 67, 0.3), 0px 1px 3px 1px rgba(60, 64, 67, 0.15);\n",
              "      fill: #174EA6;\n",
              "    }\n",
              "\n",
              "    [theme=dark] .colab-df-convert {\n",
              "      background-color: #3B4455;\n",
              "      fill: #D2E3FC;\n",
              "    }\n",
              "\n",
              "    [theme=dark] .colab-df-convert:hover {\n",
              "      background-color: #434B5C;\n",
              "      box-shadow: 0px 1px 3px 1px rgba(0, 0, 0, 0.15);\n",
              "      filter: drop-shadow(0px 1px 2px rgba(0, 0, 0, 0.3));\n",
              "      fill: #FFFFFF;\n",
              "    }\n",
              "  </style>\n",
              "\n",
              "      <script>\n",
              "        const buttonEl =\n",
              "          document.querySelector('#df-f0c2e22d-6a69-4db6-b37f-ddbab33503ca button.colab-df-convert');\n",
              "        buttonEl.style.display =\n",
              "          google.colab.kernel.accessAllowed ? 'block' : 'none';\n",
              "\n",
              "        async function convertToInteractive(key) {\n",
              "          const element = document.querySelector('#df-f0c2e22d-6a69-4db6-b37f-ddbab33503ca');\n",
              "          const dataTable =\n",
              "            await google.colab.kernel.invokeFunction('convertToInteractive',\n",
              "                                                     [key], {});\n",
              "          if (!dataTable) return;\n",
              "\n",
              "          const docLinkHtml = 'Like what you see? Visit the ' +\n",
              "            '<a target=\"_blank\" href=https://colab.research.google.com/notebooks/data_table.ipynb>data table notebook</a>'\n",
              "            + ' to learn more about interactive tables.';\n",
              "          element.innerHTML = '';\n",
              "          dataTable['output_type'] = 'display_data';\n",
              "          await google.colab.output.renderOutput(dataTable, element);\n",
              "          const docLink = document.createElement('div');\n",
              "          docLink.innerHTML = docLinkHtml;\n",
              "          element.appendChild(docLink);\n",
              "        }\n",
              "      </script>\n",
              "    </div>\n",
              "  </div>\n",
              "  "
            ]
          },
          "metadata": {},
          "execution_count": 81
        }
      ]
    },
    {
      "cell_type": "code",
      "source": [
        "len(all_auctions)"
      ],
      "metadata": {
        "colab": {
          "base_uri": "https://localhost:8080/"
        },
        "id": "b6IMyeQR3wa6",
        "outputId": "69b932ba-be86-4411-ee99-cdbeff413321"
      },
      "execution_count": null,
      "outputs": [
        {
          "output_type": "execute_result",
          "data": {
            "text/plain": [
              "4363148"
            ]
          },
          "metadata": {},
          "execution_count": 84
        }
      ]
    },
    {
      "cell_type": "code",
      "source": [
        "len(all_auctions[all_auctions['item_id']==82800])"
      ],
      "metadata": {
        "colab": {
          "base_uri": "https://localhost:8080/"
        },
        "id": "zAI_JPsM59mi",
        "outputId": "cd01ddcd-9db1-48a3-ea98-07487bfdb654"
      },
      "execution_count": null,
      "outputs": [
        {
          "output_type": "execute_result",
          "data": {
            "text/plain": [
              "398851"
            ]
          },
          "metadata": {},
          "execution_count": 90
        }
      ]
    }
  ]
}